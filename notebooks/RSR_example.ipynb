{
 "cells": [
  {
   "cell_type": "markdown",
   "metadata": {},
   "source": [
    "#  RSR using dreampy\n",
    "\n",
    "Data from RSR is reduced with dreampy3.   The data is located in two root directories, given by the usual $DATA_LMT and (much smaller) calbration data by $CORR_CAL_DIR.\n",
    "\n",
    "Currently in LMTOY these are set in the lmtoy_local.sh, since they are locally defined.\n"
   ]
  },
  {
   "cell_type": "code",
   "execution_count": null,
   "metadata": {},
   "outputs": [],
   "source": [
    "%matplotlib\n",
    "import matplotlib.pyplot as plt\n",
    "\n",
    "\n",
    "from dreampy3.redshift.utils.fileutils import make_generic_filename\n",
    "from dreampy3.redshift.netcdf import RedshiftNetCDFFile\n",
    "from dreampy3.redshift.plots import RedshiftPlot\n"
   ]
  },
  {
   "cell_type": "code",
   "execution_count": null,
   "metadata": {},
   "outputs": [],
   "source": [
    "nc = RedshiftNetCDFFile(make_generic_filename(33551, 1))\n",
    "print(nc.hdu.header.SourceName, nc.hdu.header.ObsPgm)           "
   ]
  },
  {
   "cell_type": "code",
   "execution_count": null,
   "metadata": {},
   "outputs": [],
   "source": [
    "nc.hdu.process_scan()  # this automatically senses the ObsPgm and does the appropriate processing\n",
    "pl = RedshiftPlot()\n",
    "pl.plot_spectra(nc)\n"
   ]
  },
  {
   "cell_type": "code",
   "execution_count": null,
   "metadata": {},
   "outputs": [],
   "source": [
    "# you can also get at the Tsys vector for this scan directly from this Bs observation by doing the following:\n",
    "nc.hdu.get_cal()\n",
    "pl.plot_tsys(nc)\n"
   ]
  },
  {
   "cell_type": "code",
   "execution_count": null,
   "metadata": {},
   "outputs": [],
   "source": [
    "print(nc.hdu.header.CalObsNum)               "
   ]
  },
  {
   "cell_type": "code",
   "execution_count": null,
   "metadata": {},
   "outputs": [],
   "source": [
    "nc = RedshiftNetCDFFile(make_generic_filename(33550, 1))  # Cal scan for the Bs we just analyzed\n",
    "nc.hdu.process_scan()\n",
    "nc.hdu.get_cal()\n",
    "pl.plot_tsys(nc)\n"
   ]
  },
  {
   "cell_type": "code",
   "execution_count": null,
   "metadata": {},
   "outputs": [],
   "source": []
  }
 ],
 "metadata": {
  "kernelspec": {
   "display_name": "Python 3",
   "language": "python",
   "name": "python3"
  },
  "language_info": {
   "codemirror_mode": {
    "name": "ipython",
    "version": 3
   },
   "file_extension": ".py",
   "mimetype": "text/x-python",
   "name": "python",
   "nbconvert_exporter": "python",
   "pygments_lexer": "ipython3",
   "version": "3.8.5"
  }
 },
 "nbformat": 4,
 "nbformat_minor": 4
}
