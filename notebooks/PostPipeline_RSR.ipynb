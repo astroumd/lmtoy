{
 "cells": [
  {
   "cell_type": "markdown",
   "id": "5e8ab579-b11e-4bfc-bda8-dd63ba669c27",
   "metadata": {},
   "source": [
    "# Processing RSR Pipeline Results\n",
    "\n",
    "\n",
    "Here we give an example how an RSR project is processed after the pipeline has delivered its final product.\n",
    "\n",
    "The summary file (if you have permission) would be here:\n",
    "\n",
    "http://taps.lmtgtm.org/lmtslr/2014ARSRCommissioning/32992/README.html\n"
   ]
  },
  {
   "cell_type": "code",
   "execution_count": 1,
   "id": "92a13b56-6811-4029-88ac-139653571c41",
   "metadata": {},
   "outputs": [
    {
     "data": {
      "text/plain": [
       "'/home/teuben/LMT/lmtoy/notebooks'"
      ]
     },
     "execution_count": 1,
     "metadata": {},
     "output_type": "execute_result"
    }
   ],
   "source": [
    "pwd"
   ]
  },
  {
   "cell_type": "markdown",
   "id": "5e1a9919-148f-42a3-909a-e3e96ad4964a",
   "metadata": {},
   "source": [
    "##  The Archive\n",
    "\n",
    "The archive is on http://taps.lmtgtm.org/dvsearch/ and in the example below we are starting with a zip file from a particular project/obsnum that\n",
    "we downloaded. \n",
    "for the moment, lets take 32992, since the standard benchmark 33551 seems to be absent.  *need to fix that*\n",
    "\n",
    "\n",
    "There should be two files in the archive:   32992_SDFITS.zip  and 32992_SRDP.zip\n",
    "\n",
    "If you selected both, there will be a single zip file **dataverse_files.zip** with two zip files inside. One is big, the other one (the SDFITS) is not populated yet.\n",
    "\n",
    "```\n",
    "Archive:  dataverse_files.zip\n",
    "  Length      Date    Time    Name\n",
    "---------  ---------- -----   ----\n",
    "        0  2025-05-28 17:40   2014ARSRCommissioning/\n",
    "     8619  2025-05-28 17:40   2014ARSRCommissioning/32992_SDFITS.zip\n",
    "   917233  2025-05-28 17:40   2014ARSRCommissioning/32992_SRDP.zip\n",
    "      140  2025-05-28 17:40   MANIFEST.TXT\n",
    "---------                     -------\n",
    "   925992                     4 files\n",
    "```"
   ]
  },
  {
   "cell_type": "markdown",
   "id": "5e610d48-2833-47a5-906c-cbeaea6b8538",
   "metadata": {},
   "source": [
    "Listing a portion of the SRDP zip file:\n",
    "\n",
    "```\n",
    "Archive:  32992_SRDP.zip\n",
    "  Length      Date    Time    Name\n",
    "---------  ---------- -----   ----\n",
    "        0  2025-03-25 13:31   2014ARSRCommissioning/32992/\n",
    "       40  2025-03-25 13:31   2014ARSRCommissioning/32992/date.log\n",
    "        6  2025-03-25 13:30   2014ARSRCommissioning/32992/rsr.obsnum\n",
    "       63  2025-03-25 13:30   2014ARSRCommissioning/32992/lmtoy_args.log\n",
    "     6840  2025-03-25 13:31   2014ARSRCommissioning/32992/lmtoy_32992.log\n",
    "     1313  2025-03-25 13:31   2014ARSRCommissioning/32992/lmtoy_32992.rc\n",
    "      162  2025-03-25 13:31   2014ARSRCommissioning/32992/lmtoy.rc\n",
    "    23056  2025-03-25 13:31   2014ARSRCommissioning/32992/lmtoy_32992.ifproc\n",
    "    19219  2025-03-25 13:31   2014ARSRCommissioning/32992/rsr_badlags.log\n",
    "   124067  2025-03-25 13:31   2014ARSRCommissioning/32992/badlags.32992.png\n",
    "     2391  2025-03-25 13:31   2014ARSRCommissioning/32992/rsr.32992.badlags\n",
    "    48755  2025-03-25 13:31   2014ARSRCommissioning/32992/rsr_driver1.log\n",
    "   232144  2025-03-25 13:31   2014ARSRCommissioning/32992/rsr.wf.pdf\n",
    "     5239  2025-03-25 13:31   2014ARSRCommissioning/32992/rsr.32992.driver.sum.txt.rms1.png\n",
    "     6700  2025-03-25 13:31   2014ARSRCommissioning/32992/fit.driver1.png\n",
    "      341  2025-03-25 13:31   2014ARSRCommissioning/32992/fit.driver4.log\n",
    "     6614  2025-03-25 13:31   2014ARSRCommissioning/32992/README_files.md\n",
    "    97287  2025-03-25 13:31   2014ARSRCommissioning/32992/rsr.32992.driver.sum.txt\n",
    "    78517  2025-03-25 13:31   2014ARSRCommissioning/32992/rsr.32992.driver.sum_bandspec.txt\n",
    "    28294  2025-03-25 13:31   2014ARSRCommissioning/32992/rsr.driver1.png\n",
    "    25523  2025-03-25 13:31   2014ARSRCommissioning/32992/rsr_tsys2.log\n",
    "    20452  2025-03-25 13:31   2014ARSRCommissioning/32992/dreampy.log.4\n",
    "    20460  2025-03-25 13:31   2014ARSRCommissioning/32992/dreampy.log.1\n",
    "    59282  2025-03-25 13:31   2014ARSRCommissioning/32992/rsr.wf-1.png\n",
    "    48595  2025-03-25 13:31   2014ARSRCommissioning/32992/rsr.wf-3.png\n",
    "     6654  2025-03-25 13:31   2014ARSRCommissioning/32992/rsr.32992.driver.sum.txt.sp.png\n",
    "     6957  2025-03-25 13:31   2014ARSRCommissioning/32992/spec1.png\n",
    "      602  2025-03-25 13:31   2014ARSRCommissioning/32992/fit.driver2.log\n",
    "     9809  2025-03-25 13:31   2014ARSRCommissioning/32992/README.html\n",
    "     6840  2025-03-25 13:31   2014ARSRCommissioning/32992/lmtoy_2025-03-25T17-30-50.log\n",
    "    39944  2025-03-25 13:31   2014ARSRCommissioning/32992/rsr.spectrum.png\n",
    "    16364  2025-03-25 13:31   2014ARSRCommissioning/32992/rsr_tsys1.log\n",
    "    49702  2025-03-25 13:31   2014ARSRCommissioning/32992/rsr.tsys.png\n",
    "        0  2025-03-25 13:31   2014ARSRCommissioning/32992/rsr_tsys_badcb.log\n",
    "       49  2025-03-25 13:31   2014ARSRCommissioning/32992/rsr.32992.rfile\n",
    "       67  2025-03-25 13:31   2014ARSRCommissioning/32992/rsr.32992.blanking\n",
    "    50252  2025-03-25 13:31   2014ARSRCommissioning/32992/rsr_driver_nbs.log\n",
    "    31117  2025-03-25 13:31   2014ARSRCommissioning/32992/rsr.driver.png\n",
    "      475  2025-03-25 13:31   2014ARSRCommissioning/32992/rsr_sum.log\n",
    "     5886  2025-03-25 13:31   2014ARSRCommissioning/32992/rsr.32992.driver.sum.txt.rms0.png\n",
    "     1074  2025-03-25 13:31   2014ARSRCommissioning/32992/rsr_peaks.log\n",
    "     6014  2025-03-25 13:31   2014ARSRCommissioning/32992/fit.driver2.png\n",
    "      946  2025-03-25 13:31   2014ARSRCommissioning/32992/rsr.spectra.svg.html\n",
    "    24932  2025-03-25 13:31   2014ARSRCommissioning/32992/lmtoy_2014ARSRCommissioning.tar.gz\n",
    "    20352  2025-03-25 13:31   2014ARSRCommissioning/32992/dreampy.log.3\n",
    "     9007  2025-03-25 13:31   2014ARSRCommissioning/32992/dreampy.log\n",
    "    60379  2025-03-25 13:31   2014ARSRCommissioning/32992/rsr.wf-0.png\n",
    "    54056  2025-03-25 13:31   2014ARSRCommissioning/32992/rsr.wf-2.png\n",
    "     6935  2025-03-25 13:31   2014ARSRCommissioning/32992/spec1.tab\n",
    "     1119  2025-03-25 13:31   2014ARSRCommissioning/32992/fit.driver1.log\n",
    "      341  2025-03-25 13:31   2014ARSRCommissioning/32992/fit.driver3.log\n",
    "        0  2022-04-12 09:35   2014ARSRCommissioning/32992/resources/\n",
    "        0  2023-01-18 19:54   2014ARSRCommissioning/32992/resources/js/\n",
    "    16877  2023-01-18 19:54   2014ARSRCommissioning/32992/resources/js/sorttable.js\n",
    "    65588  2022-04-12 09:35   2014ARSRCommissioning/32992/resources/js/svg-pan-zoom.js\n",
    "    31223  2025-03-25 13:31   2014ARSRCommissioning/32992/rsr.driver_nbs.png\n",
    "    50265  2025-03-25 13:31   2014ARSRCommissioning/32992/rsr_driver.log\n",
    "     9809  2025-03-25 13:31   2014ARSRCommissioning/32992/000README.html\n",
    "    20394  2025-03-25 13:31   2014ARSRCommissioning/32992/dreampy.log.5\n",
    "    20366  2025-03-25 13:31   2014ARSRCommissioning/32992/dreampy.log.2\n",
    "      795  2025-03-25 13:31   2014ARSRCommissioning/32992/linecheck.log\n",
    "---------                     -------\n",
    "  1480550                     61 files\n",
    "\n",
    "```\n",
    "\n",
    "\n",
    "32992_SRDP.zip"
   ]
  },
  {
   "cell_type": "markdown",
   "id": "842fbcee-f434-401d-9078-00ab7104a3f7",
   "metadata": {},
   "source": [
    "switching to a bash cell, where we unzip that SRDP file.  It will produce a directory tree under **2014ARSRCommissioning**"
   ]
  },
  {
   "cell_type": "code",
   "execution_count": 2,
   "id": "3ddfc97d-615e-4910-9c79-83e465e6070f",
   "metadata": {},
   "outputs": [
    {
     "name": "stdout",
     "output_type": "stream",
     "text": [
      "total 1848\n",
      "drwxrwxr-x 3 teuben teuben   4096 May 28 13:47 2014ARSRCommissioning\n",
      "-rw-rw-r-- 1 teuben teuben   8619 May 28 13:42 32992_SDFITS.zip\n",
      "-rw-rw-r-- 1 teuben teuben 917233 May 28 13:42 32992_SRDP.zip\n",
      "-rw-rw-r-- 1 teuben teuben  38091 Jun 15  2024 BS_example.ipynb\n",
      "-rw-rw-r-- 1 teuben teuben   8127 Jun 15  2024 GridMapExample.ipynb\n",
      "-rw-rw-r-- 1 teuben teuben   6540 Jun 15  2024 HCN10Reduction.ipynb\n",
      "-rw-rw-r-- 1 teuben teuben   4077 Jun 15  2024 HCN10Reduction.py\n",
      "-rw-rw-r-- 1 teuben teuben 497743 Jun 15  2024 HCN32Reduction.ipynb\n",
      "-rw-rw-r-- 1 teuben teuben  60224 May 28 14:07 PostPipeline_RSR.ipynb\n",
      "-rw-rw-r-- 1 teuben teuben 116426 Jun 15  2024 PS_EXAMPLE.ipynb\n",
      "-rw-rw-r-- 1 teuben teuben    373 Jun 15  2024 README\n",
      "-rw-rw-r-- 1 teuben teuben   2655 Jun 15  2024 RSR_example.ipynb\n",
      "-rw-rw-r-- 1 teuben teuben 208432 Jun 15  2024 SLR_example.ipynb\n"
     ]
    }
   ],
   "source": [
    "%%bash\n",
    "\n",
    "ls -l \n",
    "#unzip 32992_SRDP.zip\n"
   ]
  },
  {
   "cell_type": "code",
   "execution_count": null,
   "id": "9448bb52-ae8a-4609-bb22-5293624a6a29",
   "metadata": {},
   "outputs": [],
   "source": []
  },
  {
   "cell_type": "code",
   "execution_count": 3,
   "id": "1b686d0c-2961-4acd-9382-e123a0bd8a78",
   "metadata": {},
   "outputs": [],
   "source": [
    "obsnum = 32992\n"
   ]
  },
  {
   "cell_type": "markdown",
   "id": "3dad30bc-24b0-4908-9659-7c9ffdc8da1a",
   "metadata": {},
   "source": [
    "![spectrum](2014ARSRCommissioning/32992/rsr.driver.png)"
   ]
  },
  {
   "cell_type": "code",
   "execution_count": 4,
   "id": "842b092c-3fa8-4ead-b210-f72652a72aa4",
   "metadata": {},
   "outputs": [],
   "source": [
    "t = f'2014ARSRCommissioning/{obsnum}/rsr.{obsnum}.driver.sum.txt'\n",
    "d = np.loadtxt(t).T"
   ]
  },
  {
   "cell_type": "code",
   "execution_count": 5,
   "id": "b2607f4b-3ec6-457f-b13c-23693626f800",
   "metadata": {},
   "outputs": [
    {
     "data": {
      "text/plain": [
       "Text(0.5, 1.0, '2014ARSRCommissioning/32992/rsr.32992.driver.sum.txt')"
      ]
     },
     "execution_count": 5,
     "metadata": {},
     "output_type": "execute_result"
    },
    {
     "data": {
      "image/png": "[encoded data removed]",
      "text/plain": [
       "<Figure size 640x480 with 1 Axes>"
      ]
     },
     "metadata": {},
     "output_type": "display_data"
    }
   ],
   "source": [
    "# plot spectrum\n",
    "freq = d[0]\n",
    "ta = d[1] * 1000     #  we want it in mK\n",
    "plt.plot(freq,ta)\n",
    "#\n",
    "plt.xlim(106,112)\n",
    "plt.xlabel(\"Freq(GHz)\")\n",
    "plt.ylabel(\"Ta* (mK)\")\n",
    "plt.title(t)"
   ]
  },
  {
   "cell_type": "markdown",
   "id": "109d97c5-9add-47d9-ae8a-5d1b85d3b0e7",
   "metadata": {},
   "source": [
    "## Fitting\n",
    "\n",
    "Next we could take these data and fit a baseline and spectrum to the feature at ~ 110.5 GHz\n",
    "\n",
    "We can use pyspeckit or astropy modeling, or even scipy's curve_fit()\n",
    "\n",
    "more to come here\n",
    "\n"
   ]
  },
  {
   "cell_type": "code",
   "execution_count": null,
   "id": "eea91e57-b7c0-4dec-bc5a-2a6b81fcf073",
   "metadata": {},
   "outputs": [],
   "source": []
  }
 ],
 "metadata": {
  "kernelspec": {
   "display_name": "Python 3 (ipykernel)",
   "language": "python",
   "name": "python3"
  },
  "language_info": {
   "codemirror_mode": {
    "name": "ipython",
    "version": 3
   },
   "file_extension": ".py",
   "mimetype": "text/x-python",
   "name": "python",
   "nbconvert_exporter": "python",
   "pygments_lexer": "ipython3",
   "version": "3.10.14"
  }
 },
 "nbformat": 4,
 "nbformat_minor": 5
}
