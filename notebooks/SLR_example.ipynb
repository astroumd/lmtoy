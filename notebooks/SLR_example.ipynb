{
 "cells": [
  {
   "cell_type": "markdown",
   "metadata": {},
   "source": [
    "# SLR data reduction: under the hood\n",
    "\n",
    "Here we disect the files (one ifproc and four roach) for an obsnum. Since an observation is typically one short **Cal** and one long **Map**, we have 10 files to process for an observation.\n",
    "\n",
    "The **ifproc** samples at 125 Hz.  The roach boards at 10 Hz (the integration time). Each roach board has 4 beams, their timestamps are staggered, i.e. b0,b1,b2,b3,b0,b1,b2,b3,..... have incremental times at a cadence of about 0.025sec. Note that each of those are sampled independantly, thus they needs to be syncd by the software during reduction.\n",
    "\n",
    "The information what kind of data the telescope is taking is in the **ifproc::BufPos** variable, and takes up four values:\n",
    "* 0 = \"on\"\n",
    "* 1 = \"ref\"\n",
    "* 2 = \"sky\"\n",
    "* 3 = \"hot\"\n",
    "\n",
    "The **Cal** is two short bursts of \"Hot\" and \"Sky\".   The **Map** is many repetitions of \"Ref\" and \"On\". For the IRC benchmark data of 700\" there are five \"Ref\" and four \"On\". Slewing is about 7-8\".  Switching from \"Cal\" to \"Map\" is about 14\"."
   ]
  },
  {
   "cell_type": "code",
   "execution_count": null,
   "metadata": {},
   "outputs": [],
   "source": [
    "%matplotlib\n",
    "import os\n",
    "import numpy as np\n",
    "import matplotlib.pyplot as pl\n",
    "\n",
    "import netCDF4\n",
    "import datetime\n",
    "\n",
    "from lmtslr.spec import *\n",
    "from lmtslr.ifproc import *\n",
    "from lmtslr.viewer.spec_viewer import *\n",
    "#from beam import *\n",
    "#from beam_viewer import *\n",
    "from lmtslr.utils.roach_file_utils import create_roach_list, lookup_roach_files\n",
    "from lmtslr.utils.ifproc_file_utils import lookup_ifproc_file\n",
    "\n",
    "from lmtslr.ifproc.ifproc import IFProcData, IFProcCal\n",
    "from lmtslr.spec.spec import SpecBankCal, SpecBankData\n",
    "\n",
    "from lmtslr.utils.reader import read_obsnum_ps"
   ]
  },
  {
   "cell_type": "code",
   "execution_count": null,
   "metadata": {},
   "outputs": [],
   "source": [
    "# set root directory for the benchmark IRC_data\n",
    "path = os.environ['DATA_LMT'] + '/../IRC_data'\n",
    "       \n",
    "# set obsnum for cal (0) and map (1)     \n",
    "obsnum0 = 79447\n",
    "obsnum1 = 79448\n",
    "\n",
    "# get the filenames associated with these obsnums                                                                        \n",
    "iffile0   = lookup_ifproc_file(obsnum0,path=path+'/ifproc')\n",
    "rofile0,n = lookup_roach_files(obsnum0,path=path+'/spectrometer')\n",
    "\n",
    "iffile1   = lookup_ifproc_file(obsnum1,path=path+'/ifproc')\n",
    "rofile1,n = lookup_roach_files(obsnum1,path=path+'/spectrometer')\n"
   ]
  },
  {
   "cell_type": "code",
   "execution_count": null,
   "metadata": {},
   "outputs": [],
   "source": [
    "print(path)\n",
    "print(iffile0)\n",
    "print(iffile1)"
   ]
  },
  {
   "cell_type": "code",
   "execution_count": null,
   "metadata": {},
   "outputs": [],
   "source": [
    "def date_obs(date):\n",
    "    \"\"\" convert to ISO \"\"\"\n",
    "    return datetime.datetime.fromtimestamp(date).strftime('%Y-%m-%dT%H:%M:%S')\n",
    "    "
   ]
  },
  {
   "cell_type": "code",
   "execution_count": null,
   "metadata": {},
   "outputs": [],
   "source": [
    "def get_ifproc(filename):\n",
    "    \"\"\" get some header info from an ifproc file\"\"\"\n",
    "    \n",
    "    nc = netCDF4.Dataset(filename)\n",
    "    \n",
    "    bufpos = nc.variables['Data.TelescopeBackend.BufPos'][:]\n",
    "    dates  = nc.variables['Data.TelescopeBackend.TelTime'][:]\n",
    "    date0   = date_obs(dates[0])\n",
    "    date1   = date_obs(dates[-1])\n",
    "    tsky    = dates[-1] - dates[0]\n",
    "    sname = filename[filename.rfind('/')+1:]\n",
    "    \n",
    "    cnt = []\n",
    "    for b in [0,1,2,3]:\n",
    "        idx = np.where(bufpos==b)\n",
    "        cnt.append(len(idx[0]))\n",
    "    print(sname,date0,date1,int(tsky),cnt)   \n",
    "    \n",
    "    nc.close()"
   ]
  },
  {
   "cell_type": "code",
   "execution_count": null,
   "metadata": {},
   "outputs": [],
   "source": [
    "def get_roach(filename):\n",
    "    \"\"\" get some roach board info \"\"\"\n",
    "    \n",
    "    nc = netCDF4.Dataset(filename)\n",
    "    \n",
    "    dates = nc.variables['Data.Integrate.time'][:]\n",
    "    date0   = date_obs(dates[0])\n",
    "    date1   = date_obs(dates[-1])\n",
    "    tsky    = dates[-1] - dates[0]\n",
    "    sname   = filename[filename.rfind('/')+1:]\n",
    "    nsky = len(dates)\n",
    "    print(sname,date0,date1,int(tsky),nsky)  \n",
    "    \n",
    "    nc.close()"
   ]
  },
  {
   "cell_type": "code",
   "execution_count": null,
   "metadata": {},
   "outputs": [],
   "source": [
    "get_ifproc(iffile0)\n",
    "get_ifproc(iffile1)\n",
    "for f in rofile0:\n",
    "    get_roach(f)    \n",
    "for f in rofile1:\n",
    "    get_roach(f)"
   ]
  },
  {
   "cell_type": "code",
   "execution_count": null,
   "metadata": {},
   "outputs": [],
   "source": []
  },
  {
   "cell_type": "markdown",
   "metadata": {},
   "source": [
    "###    Detailed look at time\n",
    "\n",
    "By plotting the time we can see slewing (for the Map, about 7-8\") and switching hot/sky (for the Cal, about 2.5\")."
   ]
  },
  {
   "cell_type": "code",
   "execution_count": null,
   "metadata": {},
   "outputs": [],
   "source": [
    "def get_dates(filename,varname):\n",
    "    nc = netCDF4.Dataset(filename)\n",
    "    dates  = nc.variables[varname][:]\n",
    "    nc.close()\n",
    "    return dates"
   ]
  },
  {
   "cell_type": "code",
   "execution_count": null,
   "metadata": {},
   "outputs": [],
   "source": [
    "if True:\n",
    "    dates0 = get_dates(iffile0,'Data.TelescopeBackend.TelTime')\n",
    "    dates1 = get_dates(iffile1,'Data.TelescopeBackend.TelTime')\n",
    "else:\n",
    "    dates0 = get_dates(rofile0[0],'Data.Integrate.time')\n",
    "    dates1 = get_dates(rofile1[0],'Data.Integrate.time')   \n",
    "dates2 = np.append(dates0,dates1)\n",
    "\n",
    "    \n"
   ]
  },
  {
   "cell_type": "code",
   "execution_count": null,
   "metadata": {},
   "outputs": [],
   "source": [
    "dates = dates2 - dates2[0]\n",
    "pl.plot(range(len(dates)),dates);\n",
    "print(dates[1]-dates[0])\n",
    "print(dates[4]-dates[0])"
   ]
  },
  {
   "cell_type": "code",
   "execution_count": null,
   "metadata": {},
   "outputs": [],
   "source": []
  }
 ],
 "metadata": {
  "kernelspec": {
   "display_name": "Python 3",
   "language": "python",
   "name": "python3"
  },
  "language_info": {
   "codemirror_mode": {
    "name": "ipython",
    "version": 3
   },
   "file_extension": ".py",
   "mimetype": "text/x-python",
   "name": "python",
   "nbconvert_exporter": "python",
   "pygments_lexer": "ipython3",
   "version": "3.8.5"
  }
 },
 "nbformat": 4,
 "nbformat_minor": 4
}
