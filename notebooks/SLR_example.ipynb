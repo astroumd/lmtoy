{
 "cells": [
  {
   "cell_type": "markdown",
   "metadata": {},
   "source": [
    "# SLR data reduction: OTF under the hood\n",
    "\n",
    "Here we disect the files (one ifproc and four roach) for an obsnum. Since an observation is typically one short **Cal** and one long **Map**, we have 10 files to process for an observation.\n",
    "\n",
    "The **ifproc** samples at 125 Hz.  The roach boards at 10 Hz (the integration time). Each roach board has 4 beams, their timestamps are staggered, i.e. b0,b1,b2,b3,b0,b1,b2,b3,..... have incremental times at a cadence of about 0.025sec. Note that each of those are sampled independantly, thus they needs to be syncd by the software during reduction.\n",
    "\n",
    "The information what kind of data the telescope is taking is in the **ifproc::BufPos** variable, and takes up four values:\n",
    "* 0 = \"on\"\n",
    "* 1 = \"ref\"\n",
    "* 2 = \"sky\"\n",
    "* 3 = \"hot\"\n",
    "\n",
    "The **Cal** is two short 2.1\" bursts of \"Hot\" and \"Sky\", with a 2.5\" switch time.   The **Map** are many repetitions of \"Ref\" and \"On\". For the IRC benchmark data of ~700\" there are five \"Ref\" and four \"On\". Slewing is about 7-8\".  Switching from \"Cal\" to \"Map\" is about 14\". Each \"Ref\" is about 10\", each \"On\" about 143\"\n",
    "  \n",
    "    ObsPgm: <- Cal ->     <------------------- Map ----------------------->\n",
    "      type:   H s S        s  R s  O  s  R s  O  s  R s  O  s  R s  O  s  R\n",
    "      time:   2 3 2       14 10 8 143 8 10 8 143 8 10 8 143 8 10 8 143 8 10\n",
    "      H=hot S=sky R=ref O=on s=slew/switch\n",
    "    \n",
    "In this observation, the integration time was 4x143 = 572\", the total run was 708\", thus an 81% observing efficiency.\n",
    "\n",
    "The **Header.Dcs.IntegrationTime = 528.4** differs from this timing analysis, which suggests 572\".  Is there dead-time between integrations?   If so, then the observing efficiency is 75% for the benchmark.\n",
    "    "
   ]
  },
  {
   "cell_type": "code",
   "execution_count": 1,
   "metadata": {},
   "outputs": [
    {
     "name": "stdout",
     "output_type": "stream",
     "text": [
      "testing TKAgg\n",
      "use() got an unexpected keyword argument 'warn'\n",
      "testing Agg\n",
      "use() got an unexpected keyword argument 'warn'\n",
      "testing GTKAgg\n",
      "use() got an unexpected keyword argument 'warn'\n",
      "testing Qt4Agg\n",
      "use() got an unexpected keyword argument 'warn'\n",
      "testing WXAgg\n",
      "use() got an unexpected keyword argument 'warn'\n"
     ]
    }
   ],
   "source": [
    "%matplotlib inline\n",
    "import os\n",
    "import numpy as np\n",
    "import matplotlib.pyplot as pl\n",
    "\n",
    "import netCDF4\n",
    "import datetime\n",
    "\n",
    "from lmtslr.spec import *\n",
    "from lmtslr.ifproc import *\n",
    "from lmtslr.viewer.spec_viewer import *\n",
    "#from beam import *\n",
    "#from beam_viewer import *\n",
    "from lmtslr.utils.roach_file_utils import create_roach_list, lookup_roach_files\n",
    "from lmtslr.utils.ifproc_file_utils import lookup_ifproc_file\n",
    "\n",
    "from lmtslr.ifproc.ifproc import IFProcData, IFProcCal\n",
    "from lmtslr.spec.spec import SpecBankCal, SpecBankData\n",
    "\n",
    "from lmtslr.utils.reader import read_obsnum_ps"
   ]
  },
  {
   "cell_type": "code",
   "execution_count": 2,
   "metadata": {},
   "outputs": [],
   "source": [
    "# set root directory for the benchmark IRC_data\n",
    "path = os.environ['DATA_LMT'] + '/../IRC_data'\n",
    "       \n",
    "# set obsnum for cal (0) and map (1)     \n",
    "obsnum0 = 79447\n",
    "obsnum1 = 79448\n",
    "\n",
    "# get the filenames associated with these obsnums                                                                        \n",
    "iffile0   = lookup_ifproc_file(obsnum0,path=path+'/ifproc')\n",
    "rofile0,n = lookup_roach_files(obsnum0,path=path+'/spectrometer')\n",
    "\n",
    "iffile1   = lookup_ifproc_file(obsnum1,path=path+'/ifproc')\n",
    "rofile1,n = lookup_roach_files(obsnum1,path=path+'/spectrometer')\n"
   ]
  },
  {
   "cell_type": "code",
   "execution_count": 3,
   "metadata": {},
   "outputs": [
    {
     "name": "stdout",
     "output_type": "stream",
     "text": [
      "/media/teuben/P1-2/teuben/LMT/lmt_data/../IRC_data\n",
      "/media/teuben/P1-2/teuben/LMT/lmt_data/../IRC_data/ifproc/ifproc_2018-11-16_079447_00_0001.nc\n",
      "/media/teuben/P1-2/teuben/LMT/lmt_data/../IRC_data/ifproc/ifproc_2018-11-16_079448_01_0000.nc\n"
     ]
    }
   ],
   "source": [
    "print(path)\n",
    "print(iffile0)\n",
    "print(iffile1)"
   ]
  },
  {
   "cell_type": "code",
   "execution_count": 4,
   "metadata": {},
   "outputs": [],
   "source": [
    "def date_obs(date):\n",
    "    \"\"\" convert to ISO \"\"\"\n",
    "    return datetime.datetime.fromtimestamp(date).strftime('%Y-%m-%dT%H:%M:%S')\n",
    "    "
   ]
  },
  {
   "cell_type": "code",
   "execution_count": 5,
   "metadata": {},
   "outputs": [],
   "source": [
    "def get_ifproc(filename):\n",
    "    \"\"\" get some header info from an ifproc file\"\"\"\n",
    "    \n",
    "    nc = netCDF4.Dataset(filename)\n",
    "    \n",
    "    bufpos = nc.variables['Data.TelescopeBackend.BufPos'][:]\n",
    "    dates  = nc.variables['Data.TelescopeBackend.TelTime'][:]\n",
    "    date0   = date_obs(dates[0])\n",
    "    date1   = date_obs(dates[-1])\n",
    "    tsky    = dates[-1] - dates[0]\n",
    "    sname = filename[filename.rfind('/')+1:]\n",
    "    \n",
    "    cnt = []\n",
    "    for b in [0,1,2,3]:\n",
    "        idx = np.where(bufpos==b)\n",
    "        cnt.append(len(idx[0]))\n",
    "    print(sname,date0,date1,int(tsky),cnt)   \n",
    "    \n",
    "    nc.close()"
   ]
  },
  {
   "cell_type": "code",
   "execution_count": 6,
   "metadata": {},
   "outputs": [],
   "source": [
    "def get_roach(filename):\n",
    "    \"\"\" get some roach board info \"\"\"\n",
    "    \n",
    "    nc = netCDF4.Dataset(filename)\n",
    "    \n",
    "    dates = nc.variables['Data.Integrate.time'][:]\n",
    "    date0   = date_obs(dates[0])\n",
    "    date1   = date_obs(dates[-1])\n",
    "    tsky    = dates[-1] - dates[0]\n",
    "    sname   = filename[filename.rfind('/')+1:]\n",
    "    nsky = len(dates)\n",
    "    print(sname,date0,date1,int(tsky),nsky)  \n",
    "    \n",
    "    nc.close()"
   ]
  },
  {
   "cell_type": "code",
   "execution_count": 7,
   "metadata": {},
   "outputs": [
    {
     "name": "stdout",
     "output_type": "stream",
     "text": [
      "ifproc_2018-11-16_079447_00_0001.nc 2018-11-16T06:48:30 2018-11-16T06:48:38 7 [0, 0, 265, 263]\n",
      "ifproc_2018-11-16_079448_01_0000.nc 2018-11-16T06:48:52 2018-11-16T07:00:18 685 [57349, 5108, 0, 0]\n",
      "roach0_79447_0_1_IRC+10216_2018-11-16_114830.nc 2018-11-16T06:48:30 2018-11-16T06:48:38 7 236\n",
      "roach1_79447_0_1_IRC+10216_2018-11-16_114830.nc 2018-11-16T06:48:30 2018-11-16T06:48:38 7 236\n",
      "roach2_79447_0_1_IRC+10216_2018-11-16_114830.nc 2018-11-16T06:48:30 2018-11-16T06:48:38 7 240\n",
      "roach3_79447_0_1_IRC+10216_2018-11-16_114830.nc 2018-11-16T06:48:30 2018-11-16T06:48:38 8 244\n",
      "roach0_79448_1_0_IRC+10216_2018-11-16_114845.nc 2018-11-16T06:48:52 2018-11-16T07:00:18 686 25108\n",
      "roach1_79448_1_0_IRC+10216_2018-11-16_114845.nc 2018-11-16T06:48:52 2018-11-16T07:00:18 686 25112\n",
      "roach2_79448_1_0_IRC+10216_2018-11-16_114845.nc 2018-11-16T06:48:52 2018-11-16T07:00:18 686 25140\n",
      "roach3_79448_1_0_IRC+10216_2018-11-16_114845.nc 2018-11-16T06:48:52 2018-11-16T07:00:18 686 25144\n"
     ]
    }
   ],
   "source": [
    "get_ifproc(iffile0)\n",
    "get_ifproc(iffile1)\n",
    "for f in rofile0:\n",
    "    get_roach(f)    \n",
    "for f in rofile1:\n",
    "    get_roach(f)"
   ]
  },
  {
   "cell_type": "markdown",
   "metadata": {},
   "source": [
    "###    Detailed look at time\n",
    "\n",
    "By plotting the time we can see slewing (for the Map, about 7-8\") and switching hot/sky (for the Cal, about 2.5\")."
   ]
  },
  {
   "cell_type": "code",
   "execution_count": 8,
   "metadata": {},
   "outputs": [],
   "source": [
    "def get_dates(filename,varname):\n",
    "    nc = netCDF4.Dataset(filename)\n",
    "    dates  = nc.variables[varname][:]\n",
    "    nc.close()\n",
    "    return dates"
   ]
  },
  {
   "cell_type": "code",
   "execution_count": 9,
   "metadata": {},
   "outputs": [],
   "source": [
    "if True:\n",
    "    dates0 = get_dates(iffile0,'Data.TelescopeBackend.TelTime')\n",
    "    dates1 = get_dates(iffile1,'Data.TelescopeBackend.TelTime')\n",
    "else:\n",
    "    dates0 = get_dates(rofile0[0],'Data.Integrate.time')\n",
    "    dates1 = get_dates(rofile1[0],'Data.Integrate.time')   \n",
    "dates2 = np.append(dates0,dates1)\n",
    "\n",
    "    \n"
   ]
  },
  {
   "cell_type": "code",
   "execution_count": 10,
   "metadata": {},
   "outputs": [
    {
     "name": "stdout",
     "output_type": "stream",
     "text": [
      "0.00800013542175293\n",
      "0.040000200271606445\n",
      "708.210000038147\n"
     ]
    },
    {
     "data": {
      "image/png": "[encoded data removed]",
      "text/plain": [
       "<Figure size 432x288 with 1 Axes>"
      ]
     },
     "metadata": {
      "needs_background": "light"
     },
     "output_type": "display_data"
    }
   ],
   "source": [
    "dates = dates2 - dates2[0]\n",
    "pl.plot(range(len(dates)),dates);\n",
    "print(dates[1]-dates[0])\n",
    "print(dates[4]-dates[0])\n",
    "print(dates[-1]-dates[0])"
   ]
  },
  {
   "cell_type": "code",
   "execution_count": 11,
   "metadata": {},
   "outputs": [],
   "source": [
    "#   find the times where a jump occured\n",
    "x=dates[1:]-dates[:-1]\n",
    "idx = np.where(x>0.1)\n",
    "d = dates[idx]\n",
    "y=d[1:]-d[:-1]"
   ]
  },
  {
   "cell_type": "code",
   "execution_count": 12,
   "metadata": {},
   "outputs": [
    {
     "name": "stdout",
     "output_type": "stream",
     "text": [
      " 1    0.0    2.6\n",
      " 2    2.6    2.5\n",
      " 3    5.1    2.6\n",
      " 4    7.7   14.7\n",
      " 5   22.4   10.1\n",
      " 6   32.5    6.8\n",
      " 7   39.3  142.5\n",
      " 8  181.8    8.1\n",
      " 9  189.9   10.6\n",
      "10  200.4    7.1\n",
      "11  207.6  143.3\n",
      "12  350.8    8.3\n",
      "13  359.1   10.1\n",
      "14  369.3    7.2\n",
      "15  376.5  142.6\n",
      "16  519.1    8.3\n",
      "17  527.4   10.1\n",
      "18  537.5    7.3\n",
      "19  544.8  145.0\n",
      "20  689.7    8.3\n",
      "21  698.1   10.1\n"
     ]
    }
   ],
   "source": [
    "# print out the times of the jumps\n",
    "t = 0\n",
    "n = 1\n",
    "for i in idx[0]:\n",
    "    dt = dates[i]-t\n",
    "    print(\"%2d %6.1f %6.1f\" % (n,t,dt))\n",
    "    n = n + 1\n",
    "    t = dates[i]\n",
    "    dt = dates[i+1]-t\n",
    "    print(\"%2d %6.1f %6.1f\" % (n,t,dt))\n",
    "    t = dates[i+1]\n",
    "    n = n + 1\n",
    "dt = dates[-1]-t\n",
    "print(\"%2d %6.1f %6.1f\" % (n,t,dt))"
   ]
  },
  {
   "cell_type": "code",
   "execution_count": null,
   "metadata": {},
   "outputs": [],
   "source": []
  }
 ],
 "metadata": {
  "kernelspec": {
   "display_name": "Python 3",
   "language": "python",
   "name": "python3"
  },
  "language_info": {
   "codemirror_mode": {
    "name": "ipython",
    "version": 3
   },
   "file_extension": ".py",
   "mimetype": "text/x-python",
   "name": "python",
   "nbconvert_exporter": "python",
   "pygments_lexer": "ipython3",
   "version": "3.8.5"
  }
 },
 "nbformat": 4,
 "nbformat_minor": 4
}
