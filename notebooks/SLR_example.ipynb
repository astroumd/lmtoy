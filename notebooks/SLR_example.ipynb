{
 "cells": [
  {
   "cell_type": "markdown",
   "metadata": {},
   "source": [
    "# SLR data reduction: OTF under the hood\n",
    "\n",
    "Here we disect the files (one ifproc and four roach spectrometer boards) for an OTF Map observation. Since an observation is typically one short **Cal** followed by a long **Map**, we have 10 files to process for a calibrated observation, in two obsnum's.\n",
    "\n",
    "The **ifproc** samples various telescope variables at 125 Hz.  The spectrometer roach boards at 10 Hz (the integration time). Each roach board has 4 beams, their timestamps are staggered, i.e. beams b0,b1,b2,b3,b0,b1,b2,b3,..... have incremental times at a cadence of about 40 Hz (0.025sec). Note that each board is sampled independantly, thus they needs to be syncd by the software during reduction.\n",
    "\n",
    "The information what kind of data the telescope is taking is in the **ifproc::BufPos** variable, and takes up four values:\n",
    "* 0 = \"On\"\n",
    "* 1 = \"Ref\"\n",
    "* 2 = \"Sky\"\n",
    "* 3 = \"Hot\"\n",
    "\n",
    "The **Cal** is two short 2.1\" bursts of \"Hot\" and \"Sky\", with a 2.5\" switch time.   The **Map** are many repetitions of \"Ref\" and \"On\". For the IRC benchmark data of ~700\" there are five \"Ref\" and four \"On\". Slewing is about 7-8\".  Switching from \"Cal\" to \"Map\" is about 14\". Each \"Ref\" is about 10\", each \"On\" about 143\"\n",
    "  \n",
    "    ObsPgm: <- Cal ->     <------------------- Map ----------------------->\n",
    "      type:   H s S        s  R s  O  s  R s  O  s  R s  O  s  R s  O  s  R\n",
    "      time:   2 3 2       14 10 7 143 8 10 7 143 8 10 7 143 8 10 7 143 8 10\n",
    "      H=hot S=sky R=ref O=on s=slew/switch\n",
    "    \n",
    "In this observation, the integration time was 4x143 = 572\", the total run was 708\", thus an 81% observing efficiency.\n",
    "\n",
    "The **Header.Dcs.IntegrationTime = 528.4** differs from this timing analysis, which suggested 572\".  Is there dead-time between integrations?   If so, then the observing efficiency is 75% for the benchmark.\n",
    "    "
   ]
  },
  {
   "cell_type": "code",
   "execution_count": 1,
   "metadata": {},
   "outputs": [
    {
     "name": "stdout",
     "output_type": "stream",
     "text": [
      "testing TKAgg\n",
      "use() got an unexpected keyword argument 'warn'\n",
      "testing Agg\n",
      "use() got an unexpected keyword argument 'warn'\n",
      "testing GTKAgg\n",
      "use() got an unexpected keyword argument 'warn'\n",
      "testing Qt4Agg\n",
      "use() got an unexpected keyword argument 'warn'\n",
      "testing WXAgg\n",
      "use() got an unexpected keyword argument 'warn'\n"
     ]
    }
   ],
   "source": [
    "%matplotlib inline\n",
    "\n",
    "import os\n",
    "import numpy as np\n",
    "import matplotlib.pyplot as pl\n",
    "\n",
    "import netCDF4\n",
    "import datetime\n",
    "\n",
    "from lmtslr.spec import *\n",
    "from lmtslr.ifproc import *\n",
    "from lmtslr.viewer.spec_viewer import *\n",
    "\n",
    "from lmtslr.utils.roach_file_utils import create_roach_list, lookup_roach_files\n",
    "from lmtslr.utils.ifproc_file_utils import lookup_ifproc_file\n",
    "\n",
    "from lmtslr.ifproc.ifproc import IFProcData, IFProcCal\n",
    "from lmtslr.spec.spec import SpecBankCal, SpecBankData\n",
    "\n",
    "from lmtslr.utils.reader import read_obsnum_ps"
   ]
  },
  {
   "cell_type": "code",
   "execution_count": 2,
   "metadata": {},
   "outputs": [],
   "source": [
    "# set root directory for generic LMT data\n",
    "path = os.environ['DATA_LMT'] \n",
    "example = 1\n",
    "       \n",
    "# set obsnum for cal (0) and map (1) for one of the two example, or make your own \n",
    "if example == 1: \n",
    "    obsnum0 = 79447\n",
    "    obsnum1 = 79448\n",
    "elif example == 2:\n",
    "    obsnum0 = 91111\n",
    "    obsnum1 = 91112\n",
    "else:\n",
    "    # M51 data with a CAL, but also embedded CAL in the MAP\n",
    "    obsnum0 = 92625\n",
    "    obsnum1 = 92626  \n",
    "\n",
    "\n",
    "# get the filenames associated with these obsnums                                                                        \n",
    "iffile0   = lookup_ifproc_file(obsnum0,path=path+'/ifproc')\n",
    "rofile0,n = lookup_roach_files(obsnum0,path=path+'/spectrometer')\n",
    "\n",
    "iffile1   = lookup_ifproc_file(obsnum1,path=path+'/ifproc')\n",
    "rofile1,n = lookup_roach_files(obsnum1,path=path+'/spectrometer')\n"
   ]
  },
  {
   "cell_type": "code",
   "execution_count": 3,
   "metadata": {},
   "outputs": [
    {
     "name": "stdout",
     "output_type": "stream",
     "text": [
      "/media/teuben/P1-2/teuben/LMT/data_lmt\n",
      "/media/teuben/P1-2/teuben/LMT/data_lmt/ifproc/ifproc_2018-11-16_079447_00_0001.nc\n",
      "/media/teuben/P1-2/teuben/LMT/data_lmt/ifproc/ifproc_2018-11-16_079448_01_0000.nc\n"
     ]
    }
   ],
   "source": [
    "print(path)\n",
    "print(iffile0)\n",
    "print(iffile1)"
   ]
  },
  {
   "cell_type": "code",
   "execution_count": 4,
   "metadata": {},
   "outputs": [],
   "source": [
    "def date_obs(date):\n",
    "    \"\"\" convert to ISO \"\"\"\n",
    "    return datetime.datetime.fromtimestamp(date).strftime('%Y-%m-%dT%H:%M:%S')\n",
    "    "
   ]
  },
  {
   "cell_type": "code",
   "execution_count": 5,
   "metadata": {},
   "outputs": [],
   "source": [
    "def get_ifproc(filename):\n",
    "    \"\"\" get some header info from an ifproc file\"\"\"\n",
    "    \n",
    "    nc = netCDF4.Dataset(filename)\n",
    "    \n",
    "    bufpos = nc.variables['Data.TelescopeBackend.BufPos'][:]\n",
    "    dates  = nc.variables['Data.TelescopeBackend.TelTime'][:]\n",
    "    date0   = date_obs(dates[0])\n",
    "    date1   = date_obs(dates[-1])\n",
    "    tsky    = dates[-1] - dates[0]\n",
    "    sname = filename[filename.rfind('/')+1:]\n",
    "    \n",
    "    cnt = []\n",
    "    for b in [0,1,2,3]:\n",
    "        idx = np.where(bufpos==b)\n",
    "        cnt.append(len(idx[0]))\n",
    "    print(sname,date0,date1,int(tsky),cnt)   \n",
    "    \n",
    "    nc.close()"
   ]
  },
  {
   "cell_type": "code",
   "execution_count": 6,
   "metadata": {},
   "outputs": [],
   "source": [
    "def get_roach(filename):\n",
    "    \"\"\" get some roach board info \"\"\"\n",
    "    \n",
    "    nc = netCDF4.Dataset(filename)\n",
    "    \n",
    "    dates = nc.variables['Data.Integrate.time'][:]\n",
    "    date0   = date_obs(dates[0])\n",
    "    date1   = date_obs(dates[-1])\n",
    "    tsky    = dates[-1] - dates[0]\n",
    "    sname   = filename[filename.rfind('/')+1:]\n",
    "    nsky = len(dates)\n",
    "    print(sname,date0,date1,int(tsky),nsky)  \n",
    "    \n",
    "    nc.close()"
   ]
  },
  {
   "cell_type": "code",
   "execution_count": 7,
   "metadata": {},
   "outputs": [
    {
     "name": "stdout",
     "output_type": "stream",
     "text": [
      "ifproc_2018-11-16_079447_00_0001.nc 2018-11-16T06:48:30 2018-11-16T06:48:38 7 [0, 0, 265, 263]\n",
      "ifproc_2018-11-16_079448_01_0000.nc 2018-11-16T06:48:52 2018-11-16T07:00:18 685 [57349, 5108, 0, 0]\n",
      "roach0_79447_0_1_IRC+10216_2018-11-16_114830.nc 2018-11-16T06:48:30 2018-11-16T06:48:38 7 236\n",
      "roach1_79447_0_1_IRC+10216_2018-11-16_114830.nc 2018-11-16T06:48:30 2018-11-16T06:48:38 7 236\n",
      "roach2_79447_0_1_IRC+10216_2018-11-16_114830.nc 2018-11-16T06:48:30 2018-11-16T06:48:38 7 240\n",
      "roach3_79447_0_1_IRC+10216_2018-11-16_114830.nc 2018-11-16T06:48:30 2018-11-16T06:48:38 8 244\n",
      "roach0_79448_1_0_IRC+10216_2018-11-16_114845.nc 2018-11-16T06:48:52 2018-11-16T07:00:18 686 25108\n",
      "roach1_79448_1_0_IRC+10216_2018-11-16_114845.nc 2018-11-16T06:48:52 2018-11-16T07:00:18 686 25112\n",
      "roach2_79448_1_0_IRC+10216_2018-11-16_114845.nc 2018-11-16T06:48:52 2018-11-16T07:00:18 686 25140\n",
      "roach3_79448_1_0_IRC+10216_2018-11-16_114845.nc 2018-11-16T06:48:52 2018-11-16T07:00:18 686 25144\n"
     ]
    }
   ],
   "source": [
    "get_ifproc(iffile0)\n",
    "get_ifproc(iffile1)\n",
    "for f in rofile0:\n",
    "    get_roach(f)    \n",
    "for f in rofile1:\n",
    "    get_roach(f)"
   ]
  },
  {
   "cell_type": "markdown",
   "metadata": {},
   "source": [
    "###    Detailed look at time\n",
    "\n",
    "By plotting the time we can see slewing (for the Map, about 7-8\") and switching hot/sky (for the Cal, about 2.5\")."
   ]
  },
  {
   "cell_type": "code",
   "execution_count": 8,
   "metadata": {},
   "outputs": [],
   "source": [
    "def get_dates(filename,varname,varname2=None):\n",
    "    nc = netCDF4.Dataset(filename)\n",
    "    var  = nc.variables[varname][:]\n",
    "    if varname2 != None:\n",
    "        var2 = nc.variables[varname2][:]\n",
    "    nc.close()\n",
    "    if varname2 != None:\n",
    "        return (var,var2)\n",
    "    return var"
   ]
  },
  {
   "cell_type": "code",
   "execution_count": 9,
   "metadata": {},
   "outputs": [],
   "source": [
    "if True:\n",
    "    # ifproc file contain the bufpos\n",
    "    (dates0,bp0) = get_dates(iffile0,'Data.TelescopeBackend.TelTime','Data.TelescopeBackend.BufPos')\n",
    "    (dates1,bp1) = get_dates(iffile1,'Data.TelescopeBackend.TelTime','Data.TelescopeBackend.BufPos')\n",
    "    time0 = dates0[0]\n",
    "else:\n",
    "    # roach files don't have a bufpos, it will be derived later\n",
    "    dates0 = get_dates(rofile0[0],'Data.Integrate.time')\n",
    "    dates1 = get_dates(rofile1[0],'Data.Integrate.time') \n",
    "    bp0 = -1 * np.ones(len(dates0)) \n",
    "    bp1 = -1 * np.ones(len(dates1))\n",
    "    \n",
    "dates2 = np.append(dates0,dates1)\n",
    "bp2 = np.append(bp0,bp1)\n",
    "    \n"
   ]
  },
  {
   "cell_type": "code",
   "execution_count": 10,
   "metadata": {},
   "outputs": [
    {
     "name": "stdout",
     "output_type": "stream",
     "text": [
      "1542368910.3623033\n",
      "1542368910.3623033\n",
      "0.00800013542175293\n",
      "0.040000200271606445\n",
      "708.210000038147\n"
     ]
    },
    {
     "data": {
      "image/png": "[encoded data removed]",
      "text/plain": [
       "<Figure size 432x288 with 1 Axes>"
      ]
     },
     "metadata": {
      "needs_background": "light"
     },
     "output_type": "display_data"
    }
   ],
   "source": [
    "dates = dates2 - dates2[0]\n",
    "dates = dates2 - time0\n",
    "pl.plot(range(len(dates)),dates);\n",
    "print(dates0[0])\n",
    "print(time0)\n",
    "print(dates[1]-dates[0])\n",
    "print(dates[4]-dates[0])\n",
    "print(dates[-1]-dates[0])"
   ]
  },
  {
   "cell_type": "code",
   "execution_count": 11,
   "metadata": {},
   "outputs": [
    {
     "name": "stdout",
     "output_type": "stream",
     "text": [
      "62985 10\n"
     ]
    }
   ],
   "source": [
    "#   find the times where a jump occured\n",
    "x=dates[1:]-dates[:-1]\n",
    "idx = np.where(x>0.1)\n",
    "d = dates[idx]\n",
    "y=d[1:]-d[:-1]\n",
    "print(len(dates),len(d))"
   ]
  },
  {
   "cell_type": "code",
   "execution_count": 12,
   "metadata": {
    "scrolled": false
   },
   "outputs": [
    {
     "name": "stdout",
     "output_type": "stream",
     "text": [
      "  1    0.00    2.62     262  3\n",
      "  2    2.62    2.49     263     switch/slew\n",
      "  3    5.11    2.64     527  2\n",
      "  4    7.75   14.65     528     switch/slew\n",
      "  5   22.40   10.12    1540  1\n",
      "  6   32.52    6.75    1541     switch/slew\n",
      "  7   39.27  142.51   15794  0\n",
      "  8  181.77    8.11   15795     switch/slew\n",
      "  9  189.88   10.56   16851  1\n",
      " 10  200.44    7.12   16852     switch/slew\n",
      " 11  207.56  143.26   31180  0\n",
      " 12  350.82    8.33   31181     switch/slew\n",
      " 13  359.15   10.11   32192  1\n",
      " 14  369.26    7.21   32193     switch/slew\n",
      " 15  376.47  142.61   46456  0\n",
      " 16  519.08    8.28   46457     switch/slew\n",
      " 17  527.36   10.12   47469  1\n",
      " 18  537.48    7.28   47470     switch/slew\n",
      " 19  544.75  144.99   61971  0\n",
      " 20  689.75    8.35   61972     switch/slew\n",
      " 21  698.09   10.12   62984  1\n"
     ]
    }
   ],
   "source": [
    "# print out the times of the jumps, and if available, the bufpos\n",
    "t = 0\n",
    "n = 1\n",
    "for i in idx[0]:\n",
    "    dt = dates[i]-t\n",
    "    print(\"%3d %7.2f %7.2f  %6d  %d\" % (n,t,dt,i,bp2[i]))\n",
    "    n = n + 1\n",
    "    t = dates[i]\n",
    "    dt = dates[i+1]-t\n",
    "    print(\"%3d %7.2f %7.2f  %6d     switch/slew\" % (n,t,dt,i+1))\n",
    "    t = dates[i+1]\n",
    "    n = n + 1\n",
    "dt = dates[-1]-t\n",
    "print(\"%3d %7.2f %7.2f  %6d  %d\" % (n,t,dt,len(dates)-1,bp2[-1]))"
   ]
  },
  {
   "cell_type": "markdown",
   "metadata": {},
   "source": [
    "# Looking at raw calibration spectra\n",
    "\n",
    "The short calibration file is in **iffile0**, and we will grab some Hot/Sky calibration spectra from **rofile0[0]**, the first 4 pixels"
   ]
  },
  {
   "cell_type": "code",
   "execution_count": 13,
   "metadata": {},
   "outputs": [
    {
     "name": "stdout",
     "output_type": "stream",
     "text": [
      "/media/teuben/P1-2/teuben/LMT/data_lmt/ifproc/ifproc_2018-11-16_079447_00_0001.nc\n",
      "/media/teuben/P1-2/teuben/LMT/data_lmt/spectrometer/roach0/roach0_79447_0_1_IRC+10216_2018-11-16_114830.nc\n"
     ]
    }
   ],
   "source": [
    "print(iffile0)\n",
    "print(rofile0[0])"
   ]
  },
  {
   "cell_type": "code",
   "execution_count": 14,
   "metadata": {},
   "outputs": [
    {
     "name": "stdout",
     "output_type": "stream",
     "text": [
      "2018-11-16T06:48:30 begin /media/teuben/P1-2/teuben/LMT/data_lmt/ifproc/ifproc_2018-11-16_079447_00_0001.nc\n",
      "2018-11-16T06:48:38 end   /media/teuben/P1-2/teuben/LMT/data_lmt/ifproc/ifproc_2018-11-16_079447_00_0001.nc\n",
      "before read npix\n",
      "from pixels npix = 16\n",
      "from xlen npix = 16\n",
      "TRACKING Sequoia PIXEL  10\n",
      "/media/teuben/P1-2/teuben/LMT/data_lmt/ifproc/ifproc_2018-11-16_079447_00_0001.nc does not have map parameters\n",
      "/media/teuben/P1-2/teuben/LMT/data_lmt/ifproc/ifproc_2018-11-16_079447_00_0001.nc does not have bs parameters\n",
      "WARNING: 79447 is a Cal observation\n",
      "get chop\n",
      "'Data.Msip1mm.BeamChopperActPos'\n",
      " no chop\n"
     ]
    },
    {
     "name": "stderr",
     "output_type": "stream",
     "text": [
      "Traceback (most recent call last):\n",
      "  File \"/media/teuben/P1-2/teuben/LMT/lmtoy/SpectralLineReduction/lmtslr/ifproc/ifproc.py\", line 570, in __init__\n",
      "    self.chop = self.nc.variables['Data.Msip1mm.BeamChopperActPos'][:]\n",
      "KeyError: 'Data.Msip1mm.BeamChopperActPos'\n"
     ]
    }
   ],
   "source": [
    "ICal = IFProcData(iffile0)"
   ]
  },
  {
   "cell_type": "code",
   "execution_count": 15,
   "metadata": {},
   "outputs": [
    {
     "name": "stdout",
     "output_type": "stream",
     "text": [
      "read_roach /media/teuben/P1-2/teuben/LMT/data_lmt/spectrometer/roach0/roach0_79447_0_1_IRC+10216_2018-11-16_114830.nc     nspec,nchan=236,2048\n",
      "r:0 inp:0 pix:0 time_offset:-0.030000\n",
      "r:0 inp:1 pix:1 time_offset:-0.030000\n",
      "r:0 inp:2 pix:2 time_offset:-0.030000\n",
      "r:0 inp:3 pix:3 time_offset:-0.030000\n",
      "read_roach /media/teuben/P1-2/teuben/LMT/data_lmt/spectrometer/roach1/roach1_79447_0_1_IRC+10216_2018-11-16_114830.nc     nspec,nchan=236,2048\n",
      "read_roach /media/teuben/P1-2/teuben/LMT/data_lmt/spectrometer/roach2/roach2_79447_0_1_IRC+10216_2018-11-16_114830.nc     nspec,nchan=240,2048\n",
      "read_roach /media/teuben/P1-2/teuben/LMT/data_lmt/spectrometer/roach3/roach3_79447_0_1_IRC+10216_2018-11-16_114830.nc     nspec,nchan=244,2048\n"
     ]
    }
   ],
   "source": [
    "SCal = SpecBankData(rofile0,ICal,pixel_list=[0,1,2,3])"
   ]
  },
  {
   "cell_type": "markdown",
   "metadata": {},
   "source": [
    "During the construction of the SpecBankData the time is used to check which integration belongs to which bufpos. Recall **I** is sampled at 125Hz and **S** at 10 Hz"
   ]
  },
  {
   "cell_type": "code",
   "execution_count": 16,
   "metadata": {},
   "outputs": [
    {
     "name": "stdout",
     "output_type": "stream",
     "text": [
      "[3 3 3 3 3 3 3 3 3 3 3 3 3 3 3 3 3 3 3 3 3 3 3 3 3 3 3 3 3 3 3 3 3 3 3 3 3\n",
      " 3 3 3 3 3 3 3 3 3 3 3 3 3 3 3 3 3 3 3 3 3 3 3 3 3 3 3 3 3 3 3 3 3 3 3 3 3\n",
      " 3 3 3 3 3 3 3 3 3 3 3 3 3 3 3 3 3 3 3 3 3 3 3 3 3 3 3 3 3 3 3 3 3 3 3 3 3\n",
      " 3 3 3 3 3 3 3 3 3 3 3 3 3 3 3 3 3 3 3 3 3 3 3 3 3 3 3 3 3 3 3 3 3 3 3 3 3\n",
      " 3 3 3 3 3 3 3 3 3 3 3 3 3 3 3 3 3 3 3 3 3 3 3 3 3 3 3 3 3 3 3 3 3 3 3 3 3\n",
      " 3 3 3 3 3 3 3 3 3 3 3 3 3 3 3 3 3 3 3 3 3 3 3 3 3 3 3 3 3 3 3 3 3 3 3 3 3\n",
      " 3 3 3 3 3 3 3 3 3 3 3 3 3 3 3 3 3 3 3 3 3 3 3 3 3 3 3 3 3 3 3 3 3 3 3 3 3\n",
      " 3 3 3 3 2 2 2 2 2 2 2 2 2 2 2 2 2 2 2 2 2 2 2 2 2 2 2 2 2 2 2 2 2 2 2 2 2\n",
      " 2 2 2 2 2 2 2 2 2 2 2 2 2 2 2 2 2 2 2 2 2 2 2 2 2 2 2 2 2 2 2 2 2 2 2 2 2\n",
      " 2 2 2 2 2 2 2 2 2 2 2 2 2 2 2 2 2 2 2 2 2 2 2 2 2 2 2 2 2 2 2 2 2 2 2 2 2\n",
      " 2 2 2 2 2 2 2 2 2 2 2 2 2 2 2 2 2 2 2 2 2 2 2 2 2 2 2 2 2 2 2 2 2 2 2 2 2\n",
      " 2 2 2 2 2 2 2 2 2 2 2 2 2 2 2 2 2 2 2 2 2 2 2 2 2 2 2 2 2 2 2 2 2 2 2 2 2\n",
      " 2 2 2 2 2 2 2 2 2 2 2 2 2 2 2 2 2 2 2 2 2 2 2 2 2 2 2 2 2 2 2 2 2 2 2 2 2\n",
      " 2 2 2 2 2 2 2 2 2 2 2 2 2 2 2 2 2 2 2 2 2 2 2 2 2 2 2 2 2 2 2 2 2 2 2 2 2\n",
      " 2 2 2 2 2 2 2 2 2 2]\n",
      "[3 3 3 3 3 3 3 3 3 3 3 3 3 3 3 3 3 3 3 3 3 3 3 3 3 3 3 2 2 2 2 2 2 2 2 2 2\n",
      " 2 2 2 2 2 2 2 2 2 2 2 2 2 2 2 2 2]\n"
     ]
    }
   ],
   "source": [
    "print(ICal.bufpos)\n",
    "print(SCal.roach[0].bufpos)"
   ]
  },
  {
   "cell_type": "code",
   "execution_count": 17,
   "metadata": {},
   "outputs": [
    {
     "data": {
      "text/plain": [
       "array([ 0,  1,  2,  3,  4,  5,  6,  7,  8,  9, 10, 11, 12, 13, 14, 15, 16,\n",
       "       17, 18, 19, 20, 21, 22, 23, 24, 25, 26])"
      ]
     },
     "execution_count": 17,
     "metadata": {},
     "output_type": "execute_result"
    }
   ],
   "source": [
    "SCal.roach[0].hots"
   ]
  },
  {
   "cell_type": "code",
   "execution_count": 18,
   "metadata": {},
   "outputs": [
    {
     "data": {
      "text/plain": [
       "array([27, 28, 29, 30, 31, 32, 33, 34, 35, 36, 37, 38, 39, 40, 41, 42, 43,\n",
       "       44, 45, 46, 47, 48, 49, 50, 51, 52, 53])"
      ]
     },
     "execution_count": 18,
     "metadata": {},
     "output_type": "execute_result"
    }
   ],
   "source": [
    "SCal.roach[0].skys"
   ]
  },
  {
   "cell_type": "code",
   "execution_count": 19,
   "metadata": {},
   "outputs": [
    {
     "data": {
      "text/plain": [
       "(54, 2048)"
      ]
     },
     "execution_count": 19,
     "metadata": {},
     "output_type": "execute_result"
    }
   ],
   "source": [
    "SCal.roach[0].raw_spec.shape\n"
   ]
  },
  {
   "cell_type": "code",
   "execution_count": 20,
   "metadata": {},
   "outputs": [
    {
     "name": "stderr",
     "output_type": "stream",
     "text": [
      "<ipython-input-20-2e65f7403d2f>:7: RuntimeWarning: invalid value encountered in true_divide\n",
      "  skyr = sky1/sky2\n"
     ]
    }
   ],
   "source": [
    "sky = SCal.roach[0].raw_spec[SCal.roach[0].skys]\n",
    "hot = SCal.roach[0].raw_spec[SCal.roach[0].hots]\n",
    "sky1 = sky.mean(axis=0)\n",
    "sky2 = sky.std(axis=0)\n",
    "hot1 = hot.mean(axis=0)\n",
    "hot2 = hot.std(axis=0)\n",
    "skyr = sky1/sky2\n",
    "hotr = hot1/hot2"
   ]
  },
  {
   "cell_type": "code",
   "execution_count": 21,
   "metadata": {},
   "outputs": [
    {
     "data": {
      "image/png": "[encoded data removed]",
      "text/plain": [
       "<Figure size 432x288 with 1 Axes>"
      ]
     },
     "metadata": {
      "needs_background": "light"
     },
     "output_type": "display_data"
    }
   ],
   "source": [
    "pl.plot(hot1,label='HOT')\n",
    "pl.plot(sky1,label='SKY')\n",
    "pl.legend();\n",
    "pl.savefig('hot-sky_slr.png')"
   ]
  },
  {
   "cell_type": "markdown",
   "metadata": {},
   "source": [
    "The intensity units are \"arbitrary\" uncalibrated, and channel numbers are plotted horizontally. In this case the channels are 1 km/s at 115GHz, for a bandwidth of 800 MHz.\n"
   ]
  },
  {
   "cell_type": "code",
   "execution_count": 22,
   "metadata": {},
   "outputs": [
    {
     "data": {
      "image/png": "[encoded data removed]",
      "text/plain": [
       "<Figure size 432x288 with 1 Axes>"
      ]
     },
     "metadata": {
      "needs_background": "light"
     },
     "output_type": "display_data"
    }
   ],
   "source": [
    "# compute signal to noise ratio\n",
    "pl.plot(hotr)\n",
    "pl.plot(skyr);"
   ]
  },
  {
   "cell_type": "markdown",
   "metadata": {},
   "source": [
    "Now construct the **Tsys** spectrum, but leaving out some edge channels due to low sensitivity"
   ]
  },
  {
   "cell_type": "code",
   "execution_count": 23,
   "metadata": {},
   "outputs": [
    {
     "data": {
      "image/png": "[encoded data removed]",
      "text/plain": [
       "<Figure size 432x288 with 1 Axes>"
      ]
     },
     "metadata": {
      "needs_background": "light"
     },
     "output_type": "display_data"
    }
   ],
   "source": [
    "tamb = 280\n",
    "edge = 50\n",
    "Tsys = tamb * sky1/(hot1-sky1)\n",
    "pl.plot(Tsys[edge:-edge],label='Tsys')\n",
    "pl.legend()\n",
    "pl.savefig('Tsys_slr.png')\n"
   ]
  },
  {
   "cell_type": "markdown",
   "metadata": {},
   "source": [
    "# Calibrating a spectrum\n",
    "\n",
    "Similar to the calibration file, we grab the **I** and **S** for the Map."
   ]
  },
  {
   "cell_type": "code",
   "execution_count": 24,
   "metadata": {},
   "outputs": [
    {
     "name": "stdout",
     "output_type": "stream",
     "text": [
      "2018-11-16T06:48:52 begin /media/teuben/P1-2/teuben/LMT/data_lmt/ifproc/ifproc_2018-11-16_079448_01_0000.nc\n",
      "2018-11-16T07:00:18 end   /media/teuben/P1-2/teuben/LMT/data_lmt/ifproc/ifproc_2018-11-16_079448_01_0000.nc\n",
      "before read npix\n",
      "from pixels npix = 16\n",
      "from xlen npix = 16\n",
      "TRACKING Sequoia PIXEL  10\n",
      "Map Parameters: Ra Continuous\n",
      "HPBW= 16.0 XLength=   400.0 YLength=   400.0 XStep=  1.00                        YStep=  0.70\n",
      "/media/teuben/P1-2/teuben/LMT/data_lmt/ifproc/ifproc_2018-11-16_079448_01_0000.nc does not have bs parameters\n",
      "79448 is a Map observation\n",
      "get chop\n",
      "'Data.Msip1mm.BeamChopperActPos'\n",
      " no chop\n"
     ]
    },
    {
     "name": "stderr",
     "output_type": "stream",
     "text": [
      "Traceback (most recent call last):\n",
      "  File \"/media/teuben/P1-2/teuben/LMT/lmtoy/SpectralLineReduction/lmtslr/ifproc/ifproc.py\", line 570, in __init__\n",
      "    self.chop = self.nc.variables['Data.Msip1mm.BeamChopperActPos'][:]\n",
      "KeyError: 'Data.Msip1mm.BeamChopperActPos'\n"
     ]
    }
   ],
   "source": [
    "IMap = IFProcData(iffile1)"
   ]
  },
  {
   "cell_type": "code",
   "execution_count": 25,
   "metadata": {},
   "outputs": [
    {
     "name": "stdout",
     "output_type": "stream",
     "text": [
      "read_roach /media/teuben/P1-2/teuben/LMT/data_lmt/spectrometer/roach0/roach0_79448_1_0_IRC+10216_2018-11-16_114845.nc     nspec,nchan=25108,2048\n",
      "r:0 inp:0 pix:0 time_offset:-0.030000\n",
      "r:0 inp:1 pix:1 time_offset:-0.030000\n",
      "r:0 inp:2 pix:2 time_offset:-0.030000\n",
      "r:0 inp:3 pix:3 time_offset:-0.030000\n",
      "read_roach /media/teuben/P1-2/teuben/LMT/data_lmt/spectrometer/roach1/roach1_79448_1_0_IRC+10216_2018-11-16_114845.nc     nspec,nchan=25112,2048\n",
      "read_roach /media/teuben/P1-2/teuben/LMT/data_lmt/spectrometer/roach2/roach2_79448_1_0_IRC+10216_2018-11-16_114845.nc     nspec,nchan=25140,2048\n",
      "read_roach /media/teuben/P1-2/teuben/LMT/data_lmt/spectrometer/roach3/roach3_79448_1_0_IRC+10216_2018-11-16_114845.nc     nspec,nchan=25144,2048\n"
     ]
    }
   ],
   "source": [
    "SMap = SpecBankData(rofile1,IMap,pixel_list=[0,1,2,3])"
   ]
  },
  {
   "cell_type": "code",
   "execution_count": 26,
   "metadata": {},
   "outputs": [
    {
     "data": {
      "text/plain": [
       "[(102, 1528), (1635, 3068), (3170, 4597), (4700, 6149)]"
      ]
     },
     "execution_count": 26,
     "metadata": {},
     "output_type": "execute_result"
    }
   ],
   "source": [
    "SMap.roach[0].on_ranges"
   ]
  },
  {
   "cell_type": "code",
   "execution_count": 27,
   "metadata": {},
   "outputs": [
    {
     "data": {
      "text/plain": [
       "[(0, 101), (1529, 1634), (3069, 3169), (4598, 4699), (6150, 6251)]"
      ]
     },
     "execution_count": 27,
     "metadata": {},
     "output_type": "execute_result"
    }
   ],
   "source": [
    "SMap.roach[0].ref_ranges"
   ]
  },
  {
   "cell_type": "markdown",
   "metadata": {},
   "source": [
    "Thus there are 4 series of On's.  If we take halfway the first row in the 3rd set, we are roughly int the middle of the map, and expect to see a strong signal in this IRC example. We will cheat and just take the Ref from the point before (3169).   The only thing we don't know here is how many rows there are in this section. You have to believe me, there are 10, thus half-way the first row is about 70 points down the line, since there are about 1400 points in an \"On\" section.\n",
    "\n",
    "We also don't know which of the 4 pixels in this roach it is..... TBD. But to first order we can ignore that."
   ]
  },
  {
   "cell_type": "code",
   "execution_count": 28,
   "metadata": {},
   "outputs": [
    {
     "name": "stderr",
     "output_type": "stream",
     "text": [
      "<ipython-input-28-95be7b7d23f1>:8: RuntimeWarning: invalid value encountered in true_divide\n",
      "  Ta = Tsys * (on-ref)/ref\n"
     ]
    },
    {
     "data": {
      "image/png": "[encoded data removed]",
      "text/plain": [
       "<Figure size 432x288 with 1 Axes>"
      ]
     },
     "metadata": {
      "needs_background": "light"
     },
     "output_type": "display_data"
    }
   ],
   "source": [
    "iref = 3169\n",
    "ion  = iref+70    #  ~140 points along a single X, doing this 10 times\n",
    "#\n",
    "\n",
    "ref = SMap.roach[0].raw_spec[iref]\n",
    "on  = SMap.roach[0].raw_spec[ion]\n",
    "\n",
    "Ta = Tsys * (on-ref)/ref\n",
    "pl.plot(Ta[edge:-edge]);"
   ]
  },
  {
   "cell_type": "markdown",
   "metadata": {},
   "source": [
    "Even in this single 0.1sec integration, there is a signal near the middle of the spectrum. A modest hanning smoothing should bring that out a bit more."
   ]
  },
  {
   "cell_type": "code",
   "execution_count": 29,
   "metadata": {},
   "outputs": [
    {
     "data": {
      "image/png": "[encoded data removed]",
      "text/plain": [
       "<Figure size 432x288 with 1 Axes>"
      ]
     },
     "metadata": {
      "needs_background": "light"
     },
     "output_type": "display_data"
    }
   ],
   "source": [
    "h = np.hanning(11)\n",
    "Tasm = np.convolve(Ta,h)\n",
    "pl.plot(Tasm[edge:-edge]);"
   ]
  },
  {
   "cell_type": "markdown",
   "metadata": {},
   "source": [
    "Each roach board thus produces about 1400 * 4 points, for 4 boards this will be about 22,000 spectra in a 400 x 400\" grid. You have to believe me on that one too. These will need to be gridded in a map, and since the FWHM is about 15\", there are about 700 independant resolution elements. Thus we have effectively about 30 integrations, or 3sec integration time, per resolution element.\n",
    "\n",
    "Gridding is beyond the scope of this notebook. In addition, it is computationally more intensive, and the gridder is written in C."
   ]
  },
  {
   "cell_type": "code",
   "execution_count": null,
   "metadata": {},
   "outputs": [],
   "source": []
  }
 ],
 "metadata": {
  "kernelspec": {
   "display_name": "Python 3",
   "language": "python",
   "name": "python3"
  },
  "language_info": {
   "codemirror_mode": {
    "name": "ipython",
    "version": 3
   },
   "file_extension": ".py",
   "mimetype": "text/x-python",
   "name": "python",
   "nbconvert_exporter": "python",
   "pygments_lexer": "ipython3",
   "version": "3.8.5"
  }
 },
 "nbformat": 4,
 "nbformat_minor": 4
}
