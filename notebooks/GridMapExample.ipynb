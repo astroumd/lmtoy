{
 "cells": [
  {
   "cell_type": "code",
   "execution_count": null,
   "metadata": {},
   "outputs": [],
   "source": [
    "import numpy as np\n",
    "import matplotlib.pyplot as pl\n",
    "from lmtslr.spec import *\n",
    "from lmtslr.ifproc import *\n",
    "from lmtslr.viewer.spec_viewer import *\n",
    "#from beam import *\n",
    "#from beam_viewer import *\n",
    "from lmtslr.utils.roach_file_utils import create_roach_list, lookup_roach_files\n",
    "from lmtslr.utils.ifproc_file_utils import lookup_ifproc_file\n",
    "\n",
    "from lmtslr.ifproc.ifproc import IFProcData, IFProcCal\n",
    "from lmtslr.spec.spec import SpecBankCal, SpecBankData"
   ]
  },
  {
   "cell_type": "code",
   "execution_count": null,
   "metadata": {},
   "outputs": [],
   "source": [
    "path='lmt_data'\n",
    "# path = '/media/teuben/P1-2/teuben/LMT/lmt_data'\n",
    "# set all parameters to control the reduction and plot                                                         \n",
    "obsnum = 82865 \n",
    "# obsnum = 79273\n",
    "pixel_number = 10\n",
    "tsys = 250.\n",
    "#list_of_pixels = [0,1,2,3,4,5,6,7,8,9,10,11,12,13,14,15]\n",
    "#list_of_pixels = [2]                                                                                  \n",
    "list_of_pixels = [10]\n",
    "roach_list = create_roach_list(list_of_pixels)\n",
    "use_calibration = True\n",
    "baseline_order = 1\n",
    "#baseline_list = [[-100,0],[70,100]]\n",
    "#line_integral_list = [[5,65]]\n",
    "plot_limits = [-100,100,-100,100]\n",
    "#baseline_list = [[-200,-100],[50,150]]\n",
    "#line_integral_list = [[-50,0]]\n",
    "#baseline_list = [[-50,25],[75,150]]\n",
    "#line_integral_list = [[26,66]]\n",
    "#\n",
    "baseline_list = [[-100,-50],[20,70]]\n",
    "line_integral_list = [[-30,0]]\n",
    "\n",
    "# R LMi\n",
    "#baseline_list = [[-100,-20],[20,100]]\n",
    "#line_integral_list = [[-20,20]]\n",
    "\n",
    "# V Cam\n",
    "#baseline_list = [[-25,5],[25,50]]\n",
    "#line_integral_list = [[5,25]]\n",
    "\n",
    "# IRC+60154\n",
    "#baseline_list = [[40,50],[65,80]]\n",
    "#line_integral_list = [[50,65]]\n",
    "# NML Tau\n",
    "#baseline_list = [[0,20],[60,80]]\n",
    "#line_integral_list = [[25,45]]\n",
    "\n",
    "\n",
    "\n",
    "# VY CMa\n",
    "#baseline_list = [[-20,-5],[65,80]]\n",
    "#line_integral_list = [[0,60]]\n",
    "\n",
    "\n",
    "\n",
    "# R Leo\n",
    "#baseline_list = [[-20,-5],[20,35]]\n",
    "#line_integral_list = [[0,18]]\n",
    "\n",
    "# MIRA\n",
    "#baseline_list = [[30,45],[65,90]]\n",
    "#line_integral_list = [[48,62]]\n",
    "\n",
    "# Orion KL\n",
    "#line_integral_list = [[-5,35]] \n",
    "#baseline_list = [[-20,-10],[40,50]]\n",
    "#plot_limits = [-50,100,-1,5]\n",
    "\n",
    "# look up files to match pixel list                                                                            \n",
    "files,nfiles = lookup_roach_files(obsnum,roach_list,path=path+'/spectrometer')\n",
    "ifproc_file = lookup_ifproc_file(obsnum,path+'/ifproc')\n",
    "\n",
    "# @todo   why do the lookup_() functions need to know about the subdirs, why not use common path\n"
   ]
  },
  {
   "cell_type": "code",
   "execution_count": null,
   "metadata": {},
   "outputs": [],
   "source": [
    "# create the spec_bank object.  This reads all the roaches in the list \"files\"       \n",
    "I = IFProcData(ifproc_file)\n",
    "S = SpecBankData(files,I,pixel_list=list_of_pixels,bank=0)"
   ]
  },
  {
   "cell_type": "code",
   "execution_count": null,
   "metadata": {},
   "outputs": [],
   "source": [
    "# check whether to use calibration and open necessary file                                                     \n",
    "if use_calibration == True:\n",
    "    S.cal_flag = False\n",
    "    calobsnum = S.calobsnum\n",
    "    cal_files,ncalfiles = lookup_roach_files(calobsnum,roach_list,path=path+'/spectrometer')\n",
    "    ifproc_cal_file = lookup_ifproc_file(calobsnum,path=path+'/ifproc')\n",
    "    ICal = IFProcCal(ifproc_cal_file)\n",
    "    SCal = SpecBankCal(cal_files,ICal,pixel_list=list_of_pixels)\n",
    "    check_cal = SCal.test_cal(S)\n",
    "    if check_cal > 0:\n",
    "        print('WARNING: CAL MAY NOT BE CORRECT')\n",
    "\n",
    "    # reduce all spectra - calibrated                                                                          \n",
    "    for ipix in range(S.npix):\n",
    "        S.roach[ipix].reduce_spectra(stype=1,\n",
    "                                         calibrate=True,\n",
    "                                         tsys_spectrum=SCal.roach[ipix].tsys_spectrum)\n",
    "else:\n",
    "    # reduce all spectra - uncalibrated                                                                        \n",
    "    for ipix in range(S.npix):\n",
    "        S.roach[ipix].reduce_spectra(stype=1,calibrate=False,tsys_no_cal=150)\n"
   ]
  },
  {
   "cell_type": "code",
   "execution_count": null,
   "metadata": {},
   "outputs": [],
   "source": [
    "# set the baseline channels from velocities                                                                    \n",
    "blist,nb = S.make_velocity_list(baseline_list,id='baseline')\n",
    "# set the line integration channels from velocities                                                            \n",
    "clist,nc = S.make_velocity_list(line_integral_list,id='line')\n",
    "\n",
    "# creates the velocity scale for this observation\n",
    "v = S.create_velocity_scale()\n",
    "\n",
    "S.create_map_grid_data(clist,nc,blist,nb,baseline_order=0,pixel_list=list_of_pixels)"
   ]
  },
  {
   "cell_type": "code",
   "execution_count": null,
   "metadata": {},
   "outputs": [],
   "source": [
    "SV = spec_bank_viewer()\n",
    "SV.open_figure()\n",
    "plot_limits = [-100,100,-100,100]\n",
    "SV.plot_all_spectra(S,pixel_number,plot_limits,blist,nb)\n"
   ]
  },
  {
   "cell_type": "code",
   "execution_count": null,
   "metadata": {},
   "outputs": [],
   "source": [
    "B = BeamMap(S,pix_list=[pixel_number])\n",
    "B.fit_peaks_in_list(fit_circle=30)\n",
    "BV = BeamMapView()\n",
    "BV.print_pixel_fits(B)\n",
    "print(S.ifproc.az_user,B.peak_fit_params[0,1],S.ifproc.el_user,B.peak_fit_params[0,3])\n",
    "print('%s %d %6.1f %5.1f %6.1f %6.1f'%(S.ifproc.source,S.obsnum,S.ifproc.azim,S.ifproc.elev,S.ifproc.az_user+B.peak_fit_params[0,1],S.ifproc.el_user+B.peak_fit_params[0,3]))\n",
    "print(' ')\n",
    "\n"
   ]
  },
  {
   "cell_type": "code",
   "execution_count": null,
   "metadata": {},
   "outputs": [],
   "source": [
    "v = S.create_velocity_scale()\n",
    "pix_index = S.find_pixel_index(pixel_number)\n",
    "iii = 12\n",
    "pl.plot(v,(S.map_spectra[pix_index][iii]-np.sum(S.map_spectra[pix_index][iii][S.blist])/S.nb),'o-')\n",
    "pl.axis([-80,80,-1,10])"
   ]
  },
  {
   "cell_type": "code",
   "execution_count": null,
   "metadata": {},
   "outputs": [],
   "source": [
    "plen = len(S.map_spectra[pix_index])\n",
    "xlen = ylen = int(math.sqrt(plen))\n",
    "points = []\n",
    "for i in range(plen):\n",
    "    points.append( (np.round(S.map_x[pix_index,i]), np.round(S.map_y[pix_index,i]),i)) \n",
    "c = sorted(points,key=lambda point: point[0])\n",
    "d = sorted(c,key=lambda point: point[1], reverse=True)\n",
    "print(d)\n",
    "for i in range(plen):\n",
    "    plot_index = d[i][2]\n",
    "    ax = pl.subplot(xlen,ylen,plot_index+1)\n",
    "    ax.plot(v,(S.map_spectra[pix_index][plot_index]-np.sum(S.map_spectra[pix_index][plot_index][S.blist])/S.nb))\n"
   ]
  },
  {
   "cell_type": "raw",
   "metadata": {},
   "source": []
  }
 ],
 "metadata": {
  "kernelspec": {
   "display_name": "Python 3",
   "language": "python",
   "name": "python3"
  },
  "language_info": {
   "codemirror_mode": {
    "name": "ipython",
    "version": 3
   },
   "file_extension": ".py",
   "mimetype": "text/x-python",
   "name": "python",
   "nbconvert_exporter": "python",
   "pygments_lexer": "ipython3",
   "version": "3.8.5"
  }
 },
 "nbformat": 4,
 "nbformat_minor": 2
}
