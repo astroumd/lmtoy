{
 "cells": [
  {
   "cell_type": "code",
   "execution_count": null,
   "metadata": {},
   "outputs": [],
   "source": [
    "# a long PS integration, source 46P (a comet)\n",
    "# OBSNUMs  082230..082352\n",
    "# Each CAL is followed by 5 PS    (71 Ps and 14 Cal)\n",
    "# 2018-12-18T22:36:21 - 2018-12-19T03:51:52\n",
    "\n",
    "import numpy as np\n",
    "import matplotlib.pyplot as pl\n",
    "from lmtslr.reduction.line_reduction import *\n",
    "\n"
   ]
  },
  {
   "cell_type": "code",
   "execution_count": null,
   "metadata": {},
   "outputs": [],
   "source": [
    "# Scan Numbers\n",
    "line_rest_freq = 88.6318473e9\n",
    "a_scan_list = [82231, 82232, 82233,82234,82235,82236,82240,82241,82242,82243,82244,82246,82247,82248,82249,82250,82252,82253,82254,82255,82256,82286,82287,82288,82289,82290,82336,82337,82338,82339,82340,82342,82343,82344,82345,82346,82348,82349,82350,82351,82352]\n",
    "b_scan_list = [82292,82293,82294,82295,82296,82298,82299,82300,82301,82302,82304,82305,82306,82307,82308,82314,82315,82316,82317,82318,82320,82321,82322,82323,82324,82326,82327,82328,82329,82330]\n",
    "bank = 0\n",
    "nchan = 8192\n",
    "bandwidth = 200.\n",
    "chan_list = [10]\n",
    "\n",
    "print(len(a_scan_list),len(b_scan_list))"
   ]
  },
  {
   "cell_type": "code",
   "execution_count": null,
   "metadata": {},
   "outputs": [],
   "source": [
    "ACCUM_A = Accum()\n",
    "lines_A = []\n",
    "obsnum_A = []\n",
    "channum_A = []\n",
    "for o in a_scan_list:\n",
    "    I,S = read_obsnum(o,chan_list,True) \n",
    "    for i,c in enumerate(chan_list):\n",
    "        line = LineData(I,bank,nchan,bandwidth,S.roach[i].ps_spectrum)\n",
    "        line.x_vsrc()\n",
    "        dvdc = line.dvdc \n",
    "        for elist in [1024,2048,3072]:\n",
    "            #line.yarray[elist] = np.nan\n",
    "            line.yarray[elist] = (line.yarray[elist+1]+line.yarray[elist-1])/2.\n",
    "        line_gen = line.xgen(-100,100,dvdc)\n",
    "        lines_A.append(line_gen)\n",
    "        obsnum_A.append(o)\n",
    "        channum_A.append(c)\n",
    "        ACCUM_A.load(line_gen.yarray)\n",
    "\n",
    "ACCUM_B = Accum()\n",
    "lines_B = []\n",
    "obsnum_B = []\n",
    "channum_B = []\n",
    "for o in b_scan_list:\n",
    "    I,S = read_obsnum(o,chan_list,True) \n",
    "    for i,c in enumerate(chan_list):\n",
    "        line = LineData(I,bank,nchan,bandwidth,S.roach[i].ps_spectrum)\n",
    "        line.x_vsrc()\n",
    "        dvdc = line.dvdc\n",
    "        for elist in [1024,2048,3072]:\n",
    "            #line.yarray[elist] = np.nan\n",
    "            line.yarray[elist] = (line.yarray[elist+1]+line.yarray[elist-1])/2.\n",
    "        line_gen = line.xgen(-100,100,dvdc)\n",
    "        lines_B.append(line_gen)\n",
    "        obsnum_B.append(o)\n",
    "        channum_B.append(c)\n",
    "        ACCUM_B.load(line_gen.yarray)        \n",
    "    "
   ]
  },
  {
   "cell_type": "code",
   "execution_count": null,
   "metadata": {},
   "outputs": [],
   "source": [
    "ACCUM_A.ave()\n",
    "ACCUM_B.ave()"
   ]
  },
  {
   "cell_type": "code",
   "execution_count": null,
   "metadata": {},
   "outputs": [],
   "source": [
    "pl.plot(lines_A[0].xarray,ACCUM_A.average)\n",
    "pl.plot(lines_B[0].xarray,ACCUM_B.average)\n",
    "pl.axis([-10,10,0,.2])"
   ]
  },
  {
   "cell_type": "code",
   "execution_count": null,
   "metadata": {},
   "outputs": [],
   "source": [
    "for i in range(len(lines_A)):\n",
    "    pl.plot(lines_A[i].xarray,lines_A[i].yarray+i)\n",
    "    pl.text(20,i,'%d %d %d'%(obsnum_A[i],channum_A[i],i),fontsize=6)\n",
    "pl.axis([-20,20,-.5,len(lines_A)])\n",
    "\n",
    "\n",
    "pl.figure()  \n",
    "for i in range(len(lines_B)):\n",
    "    pl.plot(lines_B[i].xarray,lines_B[i].yarray+i)\n",
    "    pl.text(20,i,'%d %d %d'%(obsnum_B[i],channum_B[i],i),fontsize=6)\n",
    "pl.axis([-20,20,-.5,len(lines_B)])"
   ]
  },
  {
   "cell_type": "code",
   "execution_count": null,
   "metadata": {},
   "outputs": [],
   "source": [
    "ACCUM = Accum()\n",
    "good_A = np.arange(len(lines_A))\n",
    "good_B = np.arange(len(lines_B))\n",
    "for i in good_A:\n",
    "    ACCUM.load(lines_A[i].yarray)\n",
    "for i in good_B:\n",
    "    ACCUM.load(lines_B[i].yarray)\n",
    "ACCUM.ave()"
   ]
  },
  {
   "cell_type": "code",
   "execution_count": null,
   "metadata": {},
   "outputs": [],
   "source": [
    "pl.plot(lines_A[0].xarray,ACCUM.average)\n",
    "pl.xlim([-5,5])\n",
    "\n"
   ]
  },
  {
   "cell_type": "code",
   "execution_count": null,
   "metadata": {},
   "outputs": [],
   "source": [
    "a = Line(lines_A[0].iarray,lines_A[0].xarray,ACCUM.average,'VCOMET (km/s)')\n",
    "# note that hyperfine lines are located -7.1 and +4.8 km/s\n",
    "pl.plot(a.xarray,a.yarray,'k')\n",
    "bl,nbl = a.xlist([[-20.,-8.1],[-6.1,-1.],[1.,3.8],[5.8,20]])\n",
    "\n",
    "a.baseline(bl,nbl,12)\n",
    "pl.plot(a.xarray,a.baseline,'r')\n",
    "pl.axis([-20,20,0,.2])\n",
    "pl.figure()\n",
    "pl.plot(a.xarray,a.yarray,'k')\n",
    "pl.xlabel(a.xname)\n",
    "pl.xlim([-20,20])\n",
    "pl.ylim([-.04,.1])\n",
    "pl.plot([-20,20],[0,0],'k')\n",
    "\n",
    "\n"
   ]
  },
  {
   "cell_type": "code",
   "execution_count": null,
   "metadata": {
    "scrolled": false
   },
   "outputs": [],
   "source": [
    "llp,nllp = a.xlist([[-10,10]])\n",
    "for c in llp:\n",
    "    print a.xarray[c],a.yarray[c]"
   ]
  },
  {
   "cell_type": "code",
   "execution_count": null,
   "metadata": {},
   "outputs": [],
   "source": [
    "# measure just the F=2-1 line\n",
    "a = Line(lines_A[0].iarray,lines_A[0].xarray,ACCUM.average,'VCOMET (km/s)')\n",
    "\n",
    "bl,nbl = a.xlist([[-4.,-2.],[2.,3.8]])\n",
    "a.baseline(bl,nbl,0)\n",
    "ll,nll = a.xlist([[-2.,2.]])\n",
    "a.line_stats(ll,nll)\n",
    "print('YINT = %f (%f)'%(a.yint,a.yerr))\n",
    "print('XMEAN = %f'%(a.xmean))\n",
    "\n",
    "\n",
    "pl.plot(a.xarray,a.yarray,'k')\n",
    "pl.xlabel(a.xname)\n",
    "pl.xlim([-4,4])\n"
   ]
  }
 ],
 "metadata": {
  "kernelspec": {
   "display_name": "Python 3",
   "language": "python",
   "name": "python3"
  },
  "language_info": {
   "codemirror_mode": {
    "name": "ipython",
    "version": 3
   },
   "file_extension": ".py",
   "mimetype": "text/x-python",
   "name": "python",
   "nbconvert_exporter": "python",
   "pygments_lexer": "ipython3",
   "version": "3.8.5"
  }
 },
 "nbformat": 4,
 "nbformat_minor": 2
}
