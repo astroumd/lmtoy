{
 "cells": [
  {
   "cell_type": "markdown",
   "id": "8c8138ef-e687-444e-95b1-9797654f3f62",
   "metadata": {},
   "source": [
    "# Processing SEQ Pipeline Results¶\n",
    "\n",
    "This notebook shows some examples how to work with a FITS datacube produced by an *On-The-Fly* (OTF) observation. See Mangum et al. (2007) in https://ui.adsabs.harvard.edu/abs/2007A%26A...474..679M for the background on this method.\n",
    "\n",
    "\n",
    "Here we give an example how an SEQ project is processed after the pipeline has delivered its final product. We are using published data from Heyer et al (2022) paper  https://ui.adsabs.harvard.edu/abs/2022ApJ...930..170H\n",
    "\n",
    "\n",
    "The summary file (if you have permission) of the final CO(1-0) combination is here:\n",
    "\n",
    "http://taps.lmtgtm.org/lmtslr/2018-S1-MU-8/88874_91112/README.html\n",
    "\n",
    "otherwise the relevant fits cube can be downloaded via https://www.astro.umd.edu/~teuben/LMT/M51/NGC5194_88874_91112.fits\n",
    "\n"
   ]
  },
  {
   "cell_type": "code",
   "execution_count": null,
   "id": "feb0af69-ff0c-4b7b-9418-90c11cd5ce56",
   "metadata": {},
   "outputs": [],
   "source": [
    "import os\n",
    "import sys\n",
    "import numpy as np\n",
    "import numpy.ma as ma\n",
    "import matplotlib.pyplot as plt\n",
    "from astropy.io import fits\n",
    "from spectral_cube import SpectralCube\n",
    "import astropy.units as u"
   ]
  },
  {
   "cell_type": "markdown",
   "id": "7b2b8ea5-f1a2-496a-928a-885de31aaaa6",
   "metadata": {},
   "source": [
    "## Data retrieval\n",
    "\n"
   ]
  },
  {
   "cell_type": "code",
   "execution_count": null,
   "id": "a683b0ee-e65c-4c2c-8447-44ace32bb48b",
   "metadata": {},
   "outputs": [],
   "source": [
    "cube = 'NGC5194_88874_91112.fits'"
   ]
  },
  {
   "cell_type": "markdown",
   "id": "361b044d-6f40-4cc0-9c16-9f88376cfaca",
   "metadata": {},
   "source": [
    "## Viewing the gridded cube\n",
    "\n",
    "The cube should be .... 219 x 219 x 787\n",
    "\n"
   ]
  },
  {
   "cell_type": "code",
   "execution_count": null,
   "id": "7c3d9923-1160-4aae-90ec-d186ac91d2a1",
   "metadata": {},
   "outputs": [],
   "source": [
    "hdu = fits.open(cube)\n",
    "header = hdu[0].header\n",
    "print(header)\n",
    "\n"
   ]
  },
  {
   "cell_type": "code",
   "execution_count": null,
   "id": "0a318091-0a12-4e5e-879b-9eff990c8043",
   "metadata": {},
   "outputs": [],
   "source": []
  },
  {
   "cell_type": "code",
   "execution_count": null,
   "id": "6daedd8a-e79f-4adb-84f3-5e0daf938a5c",
   "metadata": {},
   "outputs": [],
   "source": [
    "data = hdu[0].data\n",
    "print(data.shape)"
   ]
  },
  {
   "cell_type": "markdown",
   "id": "1feb6d37-8cbb-431d-a7da-c1e1b3dec85b",
   "metadata": {},
   "source": [
    "## Z spectrum\n",
    "\n",
    "should also try global spectrum, but need to deal with NaN's\n"
   ]
  },
  {
   "cell_type": "code",
   "execution_count": null,
   "id": "3c805b30-0f3f-4e3f-9e0d-f822a22a324d",
   "metadata": {},
   "outputs": [],
   "source": []
  },
  {
   "cell_type": "code",
   "execution_count": null,
   "id": "4df017cd-affc-4ff6-997f-c97dda0544b3",
   "metadata": {
    "scrolled": true
   },
   "outputs": [],
   "source": [
    "spec = data[:,100,100]\n",
    "\n",
    "plt.plot(spec)\n",
    "plt.xlabel(\"Channel\")\n",
    "plt.ylabel(header[\"BUNIT\"])\n",
    "plt.title(header[\"OBJECT\"]);"
   ]
  },
  {
   "cell_type": "markdown",
   "id": "5c06a011-10ca-4247-8c84-4594044cb097",
   "metadata": {},
   "source": [
    "##   XY slice"
   ]
  },
  {
   "cell_type": "code",
   "execution_count": null,
   "id": "c1a51a76-4fcc-4210-9d40-7a9ca910ea6e",
   "metadata": {},
   "outputs": [],
   "source": [
    "slice = data[390]\n",
    "print(np.nanmean(slice),np.nanstd(slice))\n",
    "#  no WCS, but north is up this way and east to the left\n",
    "plt.imshow(slice, origin='lower', vmin=-0.1,vmax=0.5)\n",
    "plt.colorbar()\n",
    "plt.xlabel(\"RA pixel\")\n",
    "plt.ylabel(\"DEC pixel\")"
   ]
  },
  {
   "cell_type": "markdown",
   "id": "90581362-765e-40cc-a407-3ed57e4ee8c3",
   "metadata": {},
   "source": [
    "##    XZ slice\n",
    "\n",
    "Since we know the signal is mostly between channels 200 and 500 (check this by properly doing earlier cell),\n",
    "we cut the Z axis a bit to make the plot come out not as rectangular"
   ]
  },
  {
   "cell_type": "code",
   "execution_count": null,
   "id": "5c1d1a5d-d2b4-4d0e-88a1-44925b728419",
   "metadata": {},
   "outputs": [],
   "source": [
    "slice2 = data[200:500,100,:]\n",
    "print(slice2.shape)\n",
    "print(np.nanmean(slice2),np.nanstd(slice2))\n",
    "\n",
    "plt.imshow(slice2, origin='lower', vmin=-0.1,vmax=0.5)\n",
    "plt.colorbar()\n",
    "plt.xlabel(\"RA pixel\")\n",
    "plt.ylabel(\"DEC pixel\")"
   ]
  },
  {
   "cell_type": "markdown",
   "id": "e6f4fe08-73e9-4bdc-8d0d-ef99e0df02bf",
   "metadata": {},
   "source": []
  },
  {
   "cell_type": "markdown",
   "id": "dc839dcc-929d-47ba-a0ce-c87949f88588",
   "metadata": {},
   "source": [
    "## SpectralCube\n",
    "\n",
    "another teachable moment?\n"
   ]
  },
  {
   "cell_type": "code",
   "execution_count": null,
   "id": "a001a08b-6a5f-4add-93cf-1fa3ead45786",
   "metadata": {},
   "outputs": [],
   "source": [
    "try:\n",
    "    from spectral_cube import SpectralCube\n",
    "\n",
    "    my_cube = SpectralCube.read(cube).with_spectral_unit(u.km/u.s)\n",
    "\n",
    "except:\n",
    "    print(\"alas, there is no SpectralCube in your python. You could try:   pip install spectral_cube\")"
   ]
  },
  {
   "cell_type": "markdown",
   "id": "84c3aae9-8fd2-4d86-bf1f-a9f0f429df37",
   "metadata": {},
   "source": [
    "## Viewing interactively\n",
    "\n",
    "Here we would be leaveing the notebook and using your shell environment. Use at your own risk, the commands have been commented out as not to hang the automated notebook checkers.\n",
    "\n",
    "A note of caution if you use CARTA: the cell needs to remain running while viewing. Kill it with the \"interrupt the kernel\"."
   ]
  },
  {
   "cell_type": "code",
   "execution_count": null,
   "id": "87cee10e-8954-4719-a782-20cc8d695051",
   "metadata": {},
   "outputs": [],
   "source": [
    "# or go the command line way:\n",
    "\n",
    "#!ds9 NGC5194_88874_91112.fits"
   ]
  },
  {
   "cell_type": "code",
   "execution_count": null,
   "id": "9f7e456f-0037-4776-8316-9ccb089d74bd",
   "metadata": {},
   "outputs": [],
   "source": [
    "# careful, carta leaves the cell running as long as you want to view the image After that:  interrupt the kernel.\n",
    "\n",
    "#!carta NGC5194_88874_91112.fits"
   ]
  },
  {
   "cell_type": "code",
   "execution_count": null,
   "id": "bae59c18-38a6-4316-8ea3-2be0f29378da",
   "metadata": {},
   "outputs": [],
   "source": []
  },
  {
   "cell_type": "code",
   "execution_count": null,
   "id": "f247891b-b7ea-45cf-8869-b268b43949de",
   "metadata": {},
   "outputs": [],
   "source": []
  },
  {
   "cell_type": "code",
   "execution_count": null,
   "id": "31230afc-ad2a-43e2-a686-9e560ec2f32b",
   "metadata": {},
   "outputs": [],
   "source": []
  }
 ],
 "metadata": {
  "kernelspec": {
   "display_name": "Python 3 (ipykernel)",
   "language": "python",
   "name": "python3"
  },
  "language_info": {
   "codemirror_mode": {
    "name": "ipython",
    "version": 3
   },
   "file_extension": ".py",
   "mimetype": "text/x-python",
   "name": "python",
   "nbconvert_exporter": "python",
   "pygments_lexer": "ipython3",
   "version": "3.10.14"
  },
  "toc": {
   "base_numbering": 0
  }
 },
 "nbformat": 4,
 "nbformat_minor": 5
}
