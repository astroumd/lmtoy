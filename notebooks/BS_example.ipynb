{
 "cells": [
  {
   "cell_type": "markdown",
   "metadata": {},
   "source": [
    "# Example : Beam Switching mode\n",
    "\n"
   ]
  },
  {
   "cell_type": "code",
   "execution_count": 1,
   "metadata": {},
   "outputs": [
    {
     "name": "stdout",
     "output_type": "stream",
     "text": [
      "testing TKAgg\n",
      "use() got an unexpected keyword argument 'warn'\n",
      "testing Agg\n",
      "use() got an unexpected keyword argument 'warn'\n",
      "testing GTKAgg\n",
      "use() got an unexpected keyword argument 'warn'\n",
      "testing Qt4Agg\n",
      "use() got an unexpected keyword argument 'warn'\n",
      "testing WXAgg\n",
      "use() got an unexpected keyword argument 'warn'\n"
     ]
    }
   ],
   "source": [
    "import os\n",
    "import numpy as np\n",
    "import matplotlib.pyplot as pl\n",
    "from lmtslr.spec import *\n",
    "from lmtslr.spec import *\n",
    "from lmtslr.ifproc import *\n",
    "from lmtslr.viewer.spec_viewer import *\n",
    "# from beam import *\n",
    "# from beam_viewer import *\n",
    "\n",
    "from lmtslr.utils.roach_file_utils import create_roach_list, lookup_roach_files\n",
    "from lmtslr.utils.ifproc_file_utils import lookup_ifproc_file\n",
    "\n",
    "from lmtslr.ifproc.ifproc import IFProcData, IFProcCal\n",
    "from lmtslr.spec.spec import SpecBankCal, SpecBankData"
   ]
  },
  {
   "cell_type": "code",
   "execution_count": 2,
   "metadata": {},
   "outputs": [],
   "source": [
    "path = os.environ['DATA_LMT']\n",
    "\n",
    "# set all parameters to control the reduction and plot                                                                   \n",
    "obsnum = 78085\n",
    "pixel_number = 10\n",
    "tsys = 150.\n",
    "\n",
    "# designate pixels for the BS reduction                                                                                  \n",
    "list_of_pixels = [8,10]\n",
    "\n",
    "roach_list = create_roach_list(list_of_pixels)\n",
    "use_calibration = True\n",
    "baseline_order = 0\n",
    "baseline_list = [[-200,-20],[20,200]]\n",
    "line_integral_list = [[-20,20]]\n",
    "plot_limits = [-200,200,-1,10]\n"
   ]
  },
  {
   "cell_type": "code",
   "execution_count": 3,
   "metadata": {},
   "outputs": [
    {
     "name": "stdout",
     "output_type": "stream",
     "text": [
      "['/media/teuben/P1-2/teuben/LMT/lmt_data/spectrometer/roach2/roach2_78085_0_1_CHI-Cyg_2018-06-29_041715.nc'] /media/teuben/P1-2/teuben/LMT/lmt_data/ifproc/ifproc_2018-06-29_078085_00_0001.nc\n",
      "2018-06-29T00:17:18 begin /media/teuben/P1-2/teuben/LMT/lmt_data/ifproc/ifproc_2018-06-29_078085_00_0001.nc\n",
      "2018-06-29T00:18:34 end   /media/teuben/P1-2/teuben/LMT/lmt_data/ifproc/ifproc_2018-06-29_078085_00_0001.nc\n",
      "before read npix\n",
      "from pixels npix = 16\n",
      "from xlen npix = 16\n",
      "TRACKING Sequoia PIXEL  10\n",
      "/media/teuben/P1-2/teuben/LMT/lmt_data/ifproc/ifproc_2018-06-29_078085_00_0001.nc does not have map parameters\n",
      "78085 is a Bs observation\n",
      "get chop\n",
      "'Data.Msip1mm.BeamChopperActPos'\n",
      " no chop\n",
      "read_roach /media/teuben/P1-2/teuben/LMT/lmt_data/spectrometer/roach2/roach2_78085_0_1_CHI-Cyg_2018-06-29_041715.nc     nspec,nchan=2384,2048\n",
      "r:2 inp:0 pix:8 time_offset:-0.030000\n",
      "r:2 inp:2 pix:10 time_offset:-0.030000\n"
     ]
    },
    {
     "name": "stderr",
     "output_type": "stream",
     "text": [
      "Traceback (most recent call last):\n",
      "  File \"/media/teuben/P1-2/teuben/LMT/SpectralLineReduction/lmtslr/ifproc/ifproc.py\", line 570, in __init__\n",
      "    self.chop = self.nc.variables['Data.Msip1mm.BeamChopperActPos'][:]\n",
      "KeyError: 'Data.Msip1mm.BeamChopperActPos'\n"
     ]
    }
   ],
   "source": [
    "# look up files to match pixel list                                                                                      \n",
    "files,nfiles = lookup_roach_files(obsnum,roach_list,path=path+'/spectrometer')\n",
    "ifproc_file = lookup_ifproc_file(obsnum,path+'/ifproc')\n",
    "print(files,ifproc_file)\n",
    "# create the spec_bank object.  This reads all the roaches in the list \"files\"                                           \n",
    "\n",
    "I = IFProcData(ifproc_file)\n",
    "S = SpecBankData(files,I,pixel_list=list_of_pixels,bank=0)"
   ]
  },
  {
   "cell_type": "code",
   "execution_count": 4,
   "metadata": {},
   "outputs": [
    {
     "name": "stdout",
     "output_type": "stream",
     "text": [
      "['/media/teuben/P1-2/teuben/LMT/lmt_data/spectrometer/roach2/roach2_78082_0_1_CHI-Cyg_2018-06-29_041351.nc'] /media/teuben/P1-2/teuben/LMT/lmt_data/ifproc/ifproc_2018-06-29_078082_00_0001.nc\n",
      "2018-06-29T00:13:54 begin /media/teuben/P1-2/teuben/LMT/lmt_data/ifproc/ifproc_2018-06-29_078082_00_0001.nc\n",
      "2018-06-29T00:14:05 end   /media/teuben/P1-2/teuben/LMT/lmt_data/ifproc/ifproc_2018-06-29_078082_00_0001.nc\n",
      "before read npix\n",
      "from pixels npix = 16\n",
      "from xlen npix = 16\n",
      "TRACKING Sequoia PIXEL  10\n",
      "/media/teuben/P1-2/teuben/LMT/lmt_data/ifproc/ifproc_2018-06-29_078082_00_0001.nc does not have map parameters\n",
      "/media/teuben/P1-2/teuben/LMT/lmt_data/ifproc/ifproc_2018-06-29_078082_00_0001.nc does not have bs parameters\n",
      "78082 is a Cal observation\n",
      "get chop cal\n",
      "'Data.Msip1mm.BeamChopperActPos'\n",
      " no chop cal\n",
      "read_roach /media/teuben/P1-2/teuben/LMT/lmt_data/spectrometer/roach2/roach2_78082_0_1_CHI-Cyg_2018-06-29_041351.nc     nspec,nchan=392,2048\n",
      "r:2 inp:0 pix:8 time_offset:-0.030000\n",
      "r:2 inp:2 pix:10 time_offset:-0.030000\n",
      "TSYS[0] cal = 272.265 +/- 18.5654\n",
      "TSYS[2] cal = 275.816 +/- 19.5359\n"
     ]
    },
    {
     "name": "stderr",
     "output_type": "stream",
     "text": [
      "Traceback (most recent call last):\n",
      "  File \"/media/teuben/P1-2/teuben/LMT/SpectralLineReduction/lmtslr/ifproc/ifproc.py\", line 701, in __init__\n",
      "    self.chop = self.nc.variables['Data.Msip1mm.BeamChopperActPos'][:]\n",
      "KeyError: 'Data.Msip1mm.BeamChopperActPos'\n",
      "/media/teuben/P1-2/teuben/LMT/SpectralLineReduction/lmtslr/spec/spec.py:547: RuntimeWarning: divide by zero encountered in true_divide\n",
      "  self.tsys_spectrum = 280 * sky_spectrum / (hot_spectrum -\n"
     ]
    }
   ],
   "source": [
    "# check whether to use calibration and open necessary file                                                               \n",
    "if use_calibration == True:\n",
    "    S.cal_flag = False\n",
    "    calobsnum = S.calobsnum\n",
    "    cal_files,ncalfiles = lookup_roach_files(calobsnum,roach_list,path=path+'/spectrometer')\n",
    "    ifproc_cal_file = lookup_ifproc_file(calobsnum,path=path+'/ifproc')\n",
    "    print(cal_files,ifproc_cal_file)\n",
    "    ICal = IFProcCal(ifproc_cal_file)\n",
    "    SCal = SpecBankCal(cal_files,ICal,pixel_list=list_of_pixels)\n",
    "    check_cal = SCal.test_cal(S)\n",
    "    if check_cal > 0:\n",
    "        print('WARNING: CAL MAY NOT BE CORRECT')\n",
    "\n",
    "    # reduce the two spectra - calibrated                                                                                \n",
    "    S.roach[0].reduce_ps_spectrum(stype=2,calibrate=True,tsys_spectrum=SCal.roach[0].tsys_spectrum)\n",
    "    S.roach[1].reduce_ps_spectrum(stype=2,normal_ps=False,calibrate=True,tsys_spectrum=SCal.roach[1].tsys_spectrum)\n",
    "\n",
    "else:\n",
    "    # reduce the two spectra - uncalibrated                                                                              \n",
    "    S.roach[0].reduce_ps_spectrum(stype=2,calibrate=False)\n",
    "    S.roach[1].reduce_ps_spectrum(stype=2,normal_ps=False,calibrate=False)\n"
   ]
  },
  {
   "cell_type": "code",
   "execution_count": 5,
   "metadata": {},
   "outputs": [],
   "source": [
    "# set the baseline channels from velocities                                                                              \n",
    "blist,nb = S.make_velocity_list(baseline_list,id='baseline')\n",
    "# set the line integration channels from velocities                                                                      \n",
    "clist,nc = S.make_velocity_list(line_integral_list,id='line')\n",
    "\n"
   ]
  },
  {
   "cell_type": "code",
   "execution_count": 6,
   "metadata": {},
   "outputs": [
    {
     "data": {
      "image/png": "[encoded data removed]",
      "text/plain": [
       "<Figure size 864x576 with 2 Axes>"
      ]
     },
     "metadata": {
      "needs_background": "light"
     },
     "output_type": "display_data"
    }
   ],
   "source": [
    "v = S.create_velocity_scale()\n",
    "\n",
    "pl.figure(1,figsize=(12,8))\n",
    "plot_order = [1,5,9,13,2,6,10,14,3,7,11,15,4,8,12,16];\n",
    "for ipix in range(S.npix):\n",
    "    pixel_id = S.roach_pixel_ids[ipix]\n",
    "    ax = pl.subplot(4,4,plot_order[pixel_id])\n",
    "    ax.tick_params(axis='both',which='major',labelsize=6)\n",
    "    ax.tick_params(axis='both',which='minor',labelsize=6)\n",
    "    if use_calibration:\n",
    "        pl.plot(v,S.roach[ipix].ps_spectrum)\n",
    "        pl.axis(plot_limits)\n",
    "    else:\n",
    "        pl.plot(v,S.roach[ipix].ps_spectrum*tsys)\n",
    "        pl.axis(plot_limits)\n"
   ]
  },
  {
   "cell_type": "code",
   "execution_count": 7,
   "metadata": {},
   "outputs": [],
   "source": [
    "if use_calibration:\n",
    "    # calibration has been applied                                                                                       \n",
    "    theSpectrum = (S.roach[0].ps_spectrum+S.roach[1].ps_spectrum)/2.\n",
    "else:\n",
    "    # calibration not applied, so multiply by tsys                                                                       \n",
    "    theSpectrum = (S.roach[0].ps_spectrum+S.roach[1].ps_spectrum)/2. * tsys\n",
    "if False:\n",
    "    # orign\n",
    "    line_stat = S.roach[0].line_statistics(S.roach[0],\n",
    "                                       v,\n",
    "                                       theSpectrum,\n",
    "                                       clist,nc,\n",
    "                                       blist,nb,baseline_order)\n",
    "    print('BS PIX0=%2d PIX1=%2d YMAX=%.3f CMAX=%d XMAX=%.3f YINT=%.3f YERR=%.3f XMEAN=%.3f XWIDTH=%.3f RMS=%.3f'%(S.roach_pixel_ids[0],S.roach_pixel_ids[1],line_stat.ymax,line_stat.cmax,line_stat.xmax,line_stat.yint,line_stat.yerr,line_stat.xmean,line_stat.xwidth,line_stat.rms))\n",
    "    pl.plot(line_stat.v,line_stat.spectrum)\n",
    "    pl.axis([-100,100,-1,10])\n"
   ]
  },
  {
   "cell_type": "code",
   "execution_count": 8,
   "metadata": {},
   "outputs": [
    {
     "data": {
      "text/plain": [
       "[<matplotlib.lines.Line2D at 0x7f4870c44b20>]"
      ]
     },
     "execution_count": 8,
     "metadata": {},
     "output_type": "execute_result"
    },
    {
     "data": {
      "image/png": "[encoded data removed]",
      "text/plain": [
       "<Figure size 432x288 with 1 Axes>"
      ]
     },
     "metadata": {
      "needs_background": "light"
     },
     "output_type": "display_data"
    }
   ],
   "source": [
    "plot_limits=[-20,55,-0.5,5]\n",
    "pl.axis(plot_limits)\n",
    "pl.plot(v,theSpectrum)"
   ]
  }
 ],
 "metadata": {
  "kernelspec": {
   "display_name": "Python 3",
   "language": "python",
   "name": "python3"
  },
  "language_info": {
   "codemirror_mode": {
    "name": "ipython",
    "version": 3
   },
   "file_extension": ".py",
   "mimetype": "text/x-python",
   "name": "python",
   "nbconvert_exporter": "python",
   "pygments_lexer": "ipython3",
   "version": "3.8.5"
  }
 },
 "nbformat": 4,
 "nbformat_minor": 2
}
