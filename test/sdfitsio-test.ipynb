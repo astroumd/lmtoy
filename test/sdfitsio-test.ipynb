{
 "cells": [
  {
   "cell_type": "markdown",
   "metadata": {},
   "source": [
    "# Some example SDFITSIO operations with masking\n"
   ]
  },
  {
   "cell_type": "code",
   "execution_count": 1,
   "metadata": {},
   "outputs": [],
   "source": [
    "import numpy as np\n",
    "import numpy.ma as ma\n",
    "\n",
    "\n",
    "import sdfitsio as sdf\n",
    "from importlib import reload\n",
    "reload(sdf);"
   ]
  },
  {
   "cell_type": "markdown",
   "metadata": {},
   "source": [
    "Create a masked array 'a' with a typical LMT structure"
   ]
  },
  {
   "cell_type": "code",
   "execution_count": 2,
   "metadata": {},
   "outputs": [
    {
     "name": "stdout",
     "output_type": "stream",
     "text": [
      "CPU times: user 929 ms, sys: 26.9 ms, total: 956 ms\n",
      "Wall time: 955 ms\n",
      "Size of data 49152000\n"
     ]
    }
   ],
   "source": [
    "ntime = 1000\n",
    "nbeam = 16\n",
    "npol = 2\n",
    "nband = 6\n",
    "nchan = 256\n",
    "\n",
    "adim=(ntime,nbeam,npol,nband,nchan)\n",
    "%time a = sdf.gen_data(adim)\n",
    "\n",
    "print('Size of data',sdf.dimsize(adim))"
   ]
  },
  {
   "cell_type": "markdown",
   "metadata": {},
   "source": [
    "Write it as SDFITS"
   ]
  },
  {
   "cell_type": "code",
   "execution_count": 3,
   "metadata": {},
   "outputs": [
    {
     "name": "stdout",
     "output_type": "stream",
     "text": [
      "SHAPE= (1000, 16, 2, 6, 256)\n",
      "NAXIS2= 192000\n",
      "NCHAN= 256\n",
      "(192000,)\n",
      "(192000, 256)\n",
      "Written junk.fits\n",
      "CPU times: user 351 ms, sys: 1.33 s, total: 1.68 s\n",
      "Wall time: 1.69 s\n"
     ]
    }
   ],
   "source": [
    "%time sdf.my_write_sdfits('junk.fits',a)"
   ]
  },
  {
   "cell_type": "markdown",
   "metadata": {},
   "source": [
    "Set up a masking operation. Low level method. Any dimensions skipped, imply all elements are selected, i.e. [:]"
   ]
  },
  {
   "cell_type": "code",
   "execution_count": 4,
   "metadata": {},
   "outputs": [],
   "source": [
    "mask = {}\n",
    "mask[0] = '0:110'     # time \n",
    "#mask[1] = '3'        # beam\n",
    "#mask[2] = '0'        # pol\n",
    "#mask[3] = '4'        # band\n",
    "mask[4] = '81:83'    # chan\n"
   ]
  },
  {
   "cell_type": "code",
   "execution_count": 5,
   "metadata": {},
   "outputs": [
    {
     "name": "stdout",
     "output_type": "stream",
     "text": [
      "DATA_MASK:  {0: '0:110', 4: '81:83'}\n",
      "CMD: data.mask[0:110,:,:,:,81:83] = True\n",
      "CPU times: user 1.37 ms, sys: 0 ns, total: 1.37 ms\n",
      "Wall time: 1.02 ms\n"
     ]
    }
   ],
   "source": [
    "%time sdf.data_mask(a, mask)\n"
   ]
  },
  {
   "cell_type": "markdown",
   "metadata": {},
   "source": [
    "Report what fraction was masked"
   ]
  },
  {
   "cell_type": "code",
   "execution_count": 6,
   "metadata": {},
   "outputs": [
    {
     "name": "stdout",
     "output_type": "stream",
     "text": [
      "data_masked: 42240 / 49152000 = 0.0859375%\n",
      "CPU times: user 52.7 ms, sys: 0 ns, total: 52.7 ms\n",
      "Wall time: 51.8 ms\n"
     ]
    }
   ],
   "source": [
    "%time sdf.data_masked(a)"
   ]
  },
  {
   "cell_type": "code",
   "execution_count": 7,
   "metadata": {},
   "outputs": [
    {
     "name": "stdout",
     "output_type": "stream",
     "text": [
      "SHAPE= (1000, 16, 2, 6, 256)\n",
      "NAXIS2= 192000\n",
      "NCHAN= 256\n",
      "(192000,)\n",
      "(192000, 256)\n",
      "Written junk_masked.fits\n",
      "CPU times: user 237 ms, sys: 1.34 s, total: 1.58 s\n",
      "Wall time: 1.58 s\n"
     ]
    }
   ],
   "source": [
    "%time sdf.my_write_sdfits('junk_masked.fits',a)"
   ]
  },
  {
   "cell_type": "markdown",
   "metadata": {},
   "source": [
    "Read back the original unmasked"
   ]
  },
  {
   "cell_type": "code",
   "execution_count": 8,
   "metadata": {},
   "outputs": [
    {
     "name": "stdout",
     "output_type": "stream",
     "text": [
      "File:      junk.fits\n",
      "Size:      4 cols x 192000 rows\n",
      "Telescope: LMT/GTM\n",
      "Object:    ['NOISE']\n",
      "DateObs:   0.0\n",
      "DIMS2: (1000, 16, 2, 6, 256)\n",
      "(192000, 256)\n",
      "(1000, 16, 2, 6, 256)\n",
      "Data.sum() =  -4922999.5\n",
      "CPU times: user 102 ms, sys: 9.93 ms, total: 112 ms\n",
      "Wall time: 111 ms\n"
     ]
    }
   ],
   "source": [
    "%time b=sdf.my_read('junk.fits')"
   ]
  },
  {
   "cell_type": "code",
   "execution_count": 9,
   "metadata": {},
   "outputs": [
    {
     "data": {
      "text/plain": [
       "(1000, 16, 2, 6, 256)"
      ]
     },
     "execution_count": 9,
     "metadata": {},
     "output_type": "execute_result"
    }
   ],
   "source": [
    "b.shape"
   ]
  },
  {
   "cell_type": "code",
   "execution_count": 10,
   "metadata": {},
   "outputs": [
    {
     "name": "stdout",
     "output_type": "stream",
     "text": [
      "data_masked: 0 / 49152000 = 0%\n",
      "CPU times: user 41.8 ms, sys: 10.5 ms, total: 52.3 ms\n",
      "Wall time: 52.7 ms\n"
     ]
    }
   ],
   "source": [
    "%time sdf.data_masked(b)"
   ]
  },
  {
   "cell_type": "code",
   "execution_count": 11,
   "metadata": {},
   "outputs": [
    {
     "name": "stdout",
     "output_type": "stream",
     "text": [
      "File:      junk_masked.fits\n",
      "Size:      4 cols x 192000 rows\n",
      "Telescope: LMT/GTM\n",
      "Object:    ['NOISE']\n",
      "DateObs:   0.0\n",
      "DIMS2: (1000, 16, 2, 6, 256)\n",
      "(192000, 256)\n",
      "(1000, 16, 2, 6, 256)\n",
      "Data.sum() =  nan\n",
      "CPU times: user 108 ms, sys: 3.16 ms, total: 111 ms\n",
      "Wall time: 111 ms\n"
     ]
    }
   ],
   "source": [
    "%time c = sdf.my_read('junk_masked.fits')"
   ]
  },
  {
   "cell_type": "code",
   "execution_count": 12,
   "metadata": {},
   "outputs": [
    {
     "name": "stdout",
     "output_type": "stream",
     "text": [
      "data_masked: 42240 / 49152000 = 0.0859375%\n",
      "CPU times: user 44 ms, sys: 7.99 ms, total: 52 ms\n",
      "Wall time: 52.3 ms\n"
     ]
    }
   ],
   "source": [
    "%time sdf.data_masked(c)"
   ]
  },
  {
   "cell_type": "markdown",
   "metadata": {},
   "source": [
    "Indeed, the masking have now been applied (as NaN) in the SDFITS file. masks cannot be undone here, since we did not save the masks. Thus users are encouraged to save them seperately."
   ]
  },
  {
   "cell_type": "code",
   "execution_count": null,
   "metadata": {},
   "outputs": [],
   "source": []
  }
 ],
 "metadata": {
  "kernelspec": {
   "display_name": "Python 3",
   "language": "python",
   "name": "python3"
  },
  "language_info": {
   "codemirror_mode": {
    "name": "ipython",
    "version": 3
   },
   "file_extension": ".py",
   "mimetype": "text/x-python",
   "name": "python",
   "nbconvert_exporter": "python",
   "pygments_lexer": "ipython3",
   "version": "3.8.5"
  }
 },
 "nbformat": 4,
 "nbformat_minor": 4
}
